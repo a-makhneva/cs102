{
  "nbformat": 4,
  "nbformat_minor": 0,
  "metadata": {
    "kernelspec": {
      "display_name": "Python 3",
      "language": "python",
      "name": "python3"
    },
    "language_info": {
      "codemirror_mode": {
        "name": "ipython",
        "version": 3
      },
      "file_extension": ".py",
      "mimetype": "text/x-python",
      "name": "python",
      "nbconvert_exporter": "python",
      "pygments_lexer": "ipython3",
      "version": "3.7.7"
    },
    "colab": {
      "name": "hw09",
      "provenance": [],
      "collapsed_sections": [
        "g2LoG7YPBBMc",
        "XSpPFr8UBBNA"
      ],
      "toc_visible": true
    },
    "widgets": {
      "application/vnd.jupyter.widget-state+json": {
        "3068ae62c08446be8ba414c87e4aba38": {
          "model_module": "@jupyter-widgets/controls",
          "model_name": "HBoxModel",
          "state": {
            "_view_name": "HBoxView",
            "_dom_classes": [],
            "_model_name": "HBoxModel",
            "_view_module": "@jupyter-widgets/controls",
            "_model_module_version": "1.5.0",
            "_view_count": null,
            "_view_module_version": "1.5.0",
            "box_style": "",
            "layout": "IPY_MODEL_3177c689829b4ffda5765c4109b59501",
            "_model_module": "@jupyter-widgets/controls",
            "children": [
              "IPY_MODEL_e6fd72baad864e18aeeabcafd3d524e2",
              "IPY_MODEL_7ae72ea3302f4a05b5bfbc3b5c6397a6"
            ]
          }
        },
        "3177c689829b4ffda5765c4109b59501": {
          "model_module": "@jupyter-widgets/base",
          "model_name": "LayoutModel",
          "state": {
            "_view_name": "LayoutView",
            "grid_template_rows": null,
            "right": null,
            "justify_content": null,
            "_view_module": "@jupyter-widgets/base",
            "overflow": null,
            "_model_module_version": "1.2.0",
            "_view_count": null,
            "flex_flow": null,
            "width": null,
            "min_width": null,
            "border": null,
            "align_items": null,
            "bottom": null,
            "_model_module": "@jupyter-widgets/base",
            "top": null,
            "grid_column": null,
            "overflow_y": null,
            "overflow_x": null,
            "grid_auto_flow": null,
            "grid_area": null,
            "grid_template_columns": null,
            "flex": null,
            "_model_name": "LayoutModel",
            "justify_items": null,
            "grid_row": null,
            "max_height": null,
            "align_content": null,
            "visibility": null,
            "align_self": null,
            "height": null,
            "min_height": null,
            "padding": null,
            "grid_auto_rows": null,
            "grid_gap": null,
            "max_width": null,
            "order": null,
            "_view_module_version": "1.2.0",
            "grid_template_areas": null,
            "object_position": null,
            "object_fit": null,
            "grid_auto_columns": null,
            "margin": null,
            "display": null,
            "left": null
          }
        },
        "e6fd72baad864e18aeeabcafd3d524e2": {
          "model_module": "@jupyter-widgets/controls",
          "model_name": "FloatProgressModel",
          "state": {
            "_view_name": "ProgressView",
            "style": "IPY_MODEL_1912b9a6f60b46169d595eda2fef6627",
            "_dom_classes": [],
            "description": "100%",
            "_model_name": "FloatProgressModel",
            "bar_style": "success",
            "max": 300,
            "_view_module": "@jupyter-widgets/controls",
            "_model_module_version": "1.5.0",
            "value": 300,
            "_view_count": null,
            "_view_module_version": "1.5.0",
            "orientation": "horizontal",
            "min": 0,
            "description_tooltip": null,
            "_model_module": "@jupyter-widgets/controls",
            "layout": "IPY_MODEL_3a27f4ebc34c484d9635fa543609cb07"
          }
        },
        "7ae72ea3302f4a05b5bfbc3b5c6397a6": {
          "model_module": "@jupyter-widgets/controls",
          "model_name": "HTMLModel",
          "state": {
            "_view_name": "HTMLView",
            "style": "IPY_MODEL_833bf2b0a20a49b19e36dfee88a3ae05",
            "_dom_classes": [],
            "description": "",
            "_model_name": "HTMLModel",
            "placeholder": "​",
            "_view_module": "@jupyter-widgets/controls",
            "_model_module_version": "1.5.0",
            "value": " 300/300 [00:00&lt;00:00, 518.34it/s]",
            "_view_count": null,
            "_view_module_version": "1.5.0",
            "description_tooltip": null,
            "_model_module": "@jupyter-widgets/controls",
            "layout": "IPY_MODEL_08521b644ad24236abd92e686ec1f5b2"
          }
        },
        "1912b9a6f60b46169d595eda2fef6627": {
          "model_module": "@jupyter-widgets/controls",
          "model_name": "ProgressStyleModel",
          "state": {
            "_view_name": "StyleView",
            "_model_name": "ProgressStyleModel",
            "description_width": "initial",
            "_view_module": "@jupyter-widgets/base",
            "_model_module_version": "1.5.0",
            "_view_count": null,
            "_view_module_version": "1.2.0",
            "bar_color": null,
            "_model_module": "@jupyter-widgets/controls"
          }
        },
        "3a27f4ebc34c484d9635fa543609cb07": {
          "model_module": "@jupyter-widgets/base",
          "model_name": "LayoutModel",
          "state": {
            "_view_name": "LayoutView",
            "grid_template_rows": null,
            "right": null,
            "justify_content": null,
            "_view_module": "@jupyter-widgets/base",
            "overflow": null,
            "_model_module_version": "1.2.0",
            "_view_count": null,
            "flex_flow": null,
            "width": null,
            "min_width": null,
            "border": null,
            "align_items": null,
            "bottom": null,
            "_model_module": "@jupyter-widgets/base",
            "top": null,
            "grid_column": null,
            "overflow_y": null,
            "overflow_x": null,
            "grid_auto_flow": null,
            "grid_area": null,
            "grid_template_columns": null,
            "flex": null,
            "_model_name": "LayoutModel",
            "justify_items": null,
            "grid_row": null,
            "max_height": null,
            "align_content": null,
            "visibility": null,
            "align_self": null,
            "height": null,
            "min_height": null,
            "padding": null,
            "grid_auto_rows": null,
            "grid_gap": null,
            "max_width": null,
            "order": null,
            "_view_module_version": "1.2.0",
            "grid_template_areas": null,
            "object_position": null,
            "object_fit": null,
            "grid_auto_columns": null,
            "margin": null,
            "display": null,
            "left": null
          }
        },
        "833bf2b0a20a49b19e36dfee88a3ae05": {
          "model_module": "@jupyter-widgets/controls",
          "model_name": "DescriptionStyleModel",
          "state": {
            "_view_name": "StyleView",
            "_model_name": "DescriptionStyleModel",
            "description_width": "",
            "_view_module": "@jupyter-widgets/base",
            "_model_module_version": "1.5.0",
            "_view_count": null,
            "_view_module_version": "1.2.0",
            "_model_module": "@jupyter-widgets/controls"
          }
        },
        "08521b644ad24236abd92e686ec1f5b2": {
          "model_module": "@jupyter-widgets/base",
          "model_name": "LayoutModel",
          "state": {
            "_view_name": "LayoutView",
            "grid_template_rows": null,
            "right": null,
            "justify_content": null,
            "_view_module": "@jupyter-widgets/base",
            "overflow": null,
            "_model_module_version": "1.2.0",
            "_view_count": null,
            "flex_flow": null,
            "width": null,
            "min_width": null,
            "border": null,
            "align_items": null,
            "bottom": null,
            "_model_module": "@jupyter-widgets/base",
            "top": null,
            "grid_column": null,
            "overflow_y": null,
            "overflow_x": null,
            "grid_auto_flow": null,
            "grid_area": null,
            "grid_template_columns": null,
            "flex": null,
            "_model_name": "LayoutModel",
            "justify_items": null,
            "grid_row": null,
            "max_height": null,
            "align_content": null,
            "visibility": null,
            "align_self": null,
            "height": null,
            "min_height": null,
            "padding": null,
            "grid_auto_rows": null,
            "grid_gap": null,
            "max_width": null,
            "order": null,
            "_view_module_version": "1.2.0",
            "grid_template_areas": null,
            "object_position": null,
            "object_fit": null,
            "grid_auto_columns": null,
            "margin": null,
            "display": null,
            "left": null
          }
        },
        "38a6eebd8910438f802da62d864b60ae": {
          "model_module": "@jupyter-widgets/controls",
          "model_name": "HBoxModel",
          "state": {
            "_view_name": "HBoxView",
            "_dom_classes": [],
            "_model_name": "HBoxModel",
            "_view_module": "@jupyter-widgets/controls",
            "_model_module_version": "1.5.0",
            "_view_count": null,
            "_view_module_version": "1.5.0",
            "box_style": "",
            "layout": "IPY_MODEL_33fef23fd52144d3b0bb272a44559bcf",
            "_model_module": "@jupyter-widgets/controls",
            "children": [
              "IPY_MODEL_2da10574c9a64990a6aad990d473035b",
              "IPY_MODEL_7bbde37939824307b38a06a7dfc9421a"
            ]
          }
        },
        "33fef23fd52144d3b0bb272a44559bcf": {
          "model_module": "@jupyter-widgets/base",
          "model_name": "LayoutModel",
          "state": {
            "_view_name": "LayoutView",
            "grid_template_rows": null,
            "right": null,
            "justify_content": null,
            "_view_module": "@jupyter-widgets/base",
            "overflow": null,
            "_model_module_version": "1.2.0",
            "_view_count": null,
            "flex_flow": null,
            "width": null,
            "min_width": null,
            "border": null,
            "align_items": null,
            "bottom": null,
            "_model_module": "@jupyter-widgets/base",
            "top": null,
            "grid_column": null,
            "overflow_y": null,
            "overflow_x": null,
            "grid_auto_flow": null,
            "grid_area": null,
            "grid_template_columns": null,
            "flex": null,
            "_model_name": "LayoutModel",
            "justify_items": null,
            "grid_row": null,
            "max_height": null,
            "align_content": null,
            "visibility": null,
            "align_self": null,
            "height": null,
            "min_height": null,
            "padding": null,
            "grid_auto_rows": null,
            "grid_gap": null,
            "max_width": null,
            "order": null,
            "_view_module_version": "1.2.0",
            "grid_template_areas": null,
            "object_position": null,
            "object_fit": null,
            "grid_auto_columns": null,
            "margin": null,
            "display": null,
            "left": null
          }
        },
        "2da10574c9a64990a6aad990d473035b": {
          "model_module": "@jupyter-widgets/controls",
          "model_name": "FloatProgressModel",
          "state": {
            "_view_name": "ProgressView",
            "style": "IPY_MODEL_bd7c159e2db045e99ef1567953a04071",
            "_dom_classes": [],
            "description": "100%",
            "_model_name": "FloatProgressModel",
            "bar_style": "success",
            "max": 5000,
            "_view_module": "@jupyter-widgets/controls",
            "_model_module_version": "1.5.0",
            "value": 5000,
            "_view_count": null,
            "_view_module_version": "1.5.0",
            "orientation": "horizontal",
            "min": 0,
            "description_tooltip": null,
            "_model_module": "@jupyter-widgets/controls",
            "layout": "IPY_MODEL_b7f5e149d10f44bc97ee86a7f781b279"
          }
        },
        "7bbde37939824307b38a06a7dfc9421a": {
          "model_module": "@jupyter-widgets/controls",
          "model_name": "HTMLModel",
          "state": {
            "_view_name": "HTMLView",
            "style": "IPY_MODEL_c056323eb9b5499e860b249a9c99358e",
            "_dom_classes": [],
            "description": "",
            "_model_name": "HTMLModel",
            "placeholder": "​",
            "_view_module": "@jupyter-widgets/controls",
            "_model_module_version": "1.5.0",
            "value": " 5000/5000 [00:00&lt;00:00, 5549.43it/s]",
            "_view_count": null,
            "_view_module_version": "1.5.0",
            "description_tooltip": null,
            "_model_module": "@jupyter-widgets/controls",
            "layout": "IPY_MODEL_75c90c25cad14ad2ab6788b5f182f71b"
          }
        },
        "bd7c159e2db045e99ef1567953a04071": {
          "model_module": "@jupyter-widgets/controls",
          "model_name": "ProgressStyleModel",
          "state": {
            "_view_name": "StyleView",
            "_model_name": "ProgressStyleModel",
            "description_width": "initial",
            "_view_module": "@jupyter-widgets/base",
            "_model_module_version": "1.5.0",
            "_view_count": null,
            "_view_module_version": "1.2.0",
            "bar_color": null,
            "_model_module": "@jupyter-widgets/controls"
          }
        },
        "b7f5e149d10f44bc97ee86a7f781b279": {
          "model_module": "@jupyter-widgets/base",
          "model_name": "LayoutModel",
          "state": {
            "_view_name": "LayoutView",
            "grid_template_rows": null,
            "right": null,
            "justify_content": null,
            "_view_module": "@jupyter-widgets/base",
            "overflow": null,
            "_model_module_version": "1.2.0",
            "_view_count": null,
            "flex_flow": null,
            "width": null,
            "min_width": null,
            "border": null,
            "align_items": null,
            "bottom": null,
            "_model_module": "@jupyter-widgets/base",
            "top": null,
            "grid_column": null,
            "overflow_y": null,
            "overflow_x": null,
            "grid_auto_flow": null,
            "grid_area": null,
            "grid_template_columns": null,
            "flex": null,
            "_model_name": "LayoutModel",
            "justify_items": null,
            "grid_row": null,
            "max_height": null,
            "align_content": null,
            "visibility": null,
            "align_self": null,
            "height": null,
            "min_height": null,
            "padding": null,
            "grid_auto_rows": null,
            "grid_gap": null,
            "max_width": null,
            "order": null,
            "_view_module_version": "1.2.0",
            "grid_template_areas": null,
            "object_position": null,
            "object_fit": null,
            "grid_auto_columns": null,
            "margin": null,
            "display": null,
            "left": null
          }
        },
        "c056323eb9b5499e860b249a9c99358e": {
          "model_module": "@jupyter-widgets/controls",
          "model_name": "DescriptionStyleModel",
          "state": {
            "_view_name": "StyleView",
            "_model_name": "DescriptionStyleModel",
            "description_width": "",
            "_view_module": "@jupyter-widgets/base",
            "_model_module_version": "1.5.0",
            "_view_count": null,
            "_view_module_version": "1.2.0",
            "_model_module": "@jupyter-widgets/controls"
          }
        },
        "75c90c25cad14ad2ab6788b5f182f71b": {
          "model_module": "@jupyter-widgets/base",
          "model_name": "LayoutModel",
          "state": {
            "_view_name": "LayoutView",
            "grid_template_rows": null,
            "right": null,
            "justify_content": null,
            "_view_module": "@jupyter-widgets/base",
            "overflow": null,
            "_model_module_version": "1.2.0",
            "_view_count": null,
            "flex_flow": null,
            "width": null,
            "min_width": null,
            "border": null,
            "align_items": null,
            "bottom": null,
            "_model_module": "@jupyter-widgets/base",
            "top": null,
            "grid_column": null,
            "overflow_y": null,
            "overflow_x": null,
            "grid_auto_flow": null,
            "grid_area": null,
            "grid_template_columns": null,
            "flex": null,
            "_model_name": "LayoutModel",
            "justify_items": null,
            "grid_row": null,
            "max_height": null,
            "align_content": null,
            "visibility": null,
            "align_self": null,
            "height": null,
            "min_height": null,
            "padding": null,
            "grid_auto_rows": null,
            "grid_gap": null,
            "max_width": null,
            "order": null,
            "_view_module_version": "1.2.0",
            "grid_template_areas": null,
            "object_position": null,
            "object_fit": null,
            "grid_auto_columns": null,
            "margin": null,
            "display": null,
            "left": null
          }
        }
      }
    }
  },
  "cells": [
    {
      "cell_type": "markdown",
      "metadata": {
        "id": "gDALJOtvBBLg"
      },
      "source": [
        "## Многомерная линейная регрессия"
      ]
    },
    {
      "cell_type": "markdown",
      "metadata": {
        "id": "cLQCixW2BBLh"
      },
      "source": [
        "До этого мы рассматривали только один признак - среднее число комнат на участке. Давайте в нашу модель добавим еще один признак - процент жителей с низким социальным статусом (`LSTAT`)."
      ]
    },
    {
      "cell_type": "code",
      "metadata": {
        "id": "ZhPtfwk2y7G0"
      },
      "source": [
        "%matplotlib inline\n",
        "\n",
        "import pandas as pd\n",
        "import numpy as np\n",
        "import matplotlib.pyplot as plt\n",
        "import seaborn as sns\n",
        "plt.style.use(\"seaborn\")"
      ],
      "execution_count": null,
      "outputs": []
    },
    {
      "cell_type": "code",
      "metadata": {
        "id": "4TwQb69j0wmh"
      },
      "source": [
        "from sklearn.model_selection import train_test_split\n",
        "from sklearn.metrics import mean_squared_error\n",
        "from sklearn.metrics import r2_score\n",
        "from sklearn.linear_model import SGDRegressor\n",
        "from sklearn.preprocessing import StandardScaler\n",
        "from tqdm.notebook import tqdm\n",
        "from sklearn.linear_model import Lasso\n",
        "from sklearn.model_selection import GridSearchCV"
      ],
      "execution_count": null,
      "outputs": []
    },
    {
      "cell_type": "code",
      "metadata": {
        "id": "0izKn4Vyy8Mc"
      },
      "source": [
        "from sklearn.datasets import load_boston\n",
        "boston = load_boston()"
      ],
      "execution_count": null,
      "outputs": []
    },
    {
      "cell_type": "code",
      "metadata": {
        "colab": {
          "base_uri": "https://localhost:8080/",
          "height": 204
        },
        "id": "9YItn1jGzcJ1",
        "outputId": "4d83fa7d-561c-4deb-ccdd-ff4fadb0ab95"
      },
      "source": [
        "data = pd.DataFrame(data=boston.data, columns=boston.feature_names)\n",
        "data[\"MEDV\"] = boston.target\n",
        "data.head()"
      ],
      "execution_count": null,
      "outputs": [
        {
          "output_type": "execute_result",
          "data": {
            "text/html": [
              "<div>\n",
              "<style scoped>\n",
              "    .dataframe tbody tr th:only-of-type {\n",
              "        vertical-align: middle;\n",
              "    }\n",
              "\n",
              "    .dataframe tbody tr th {\n",
              "        vertical-align: top;\n",
              "    }\n",
              "\n",
              "    .dataframe thead th {\n",
              "        text-align: right;\n",
              "    }\n",
              "</style>\n",
              "<table border=\"1\" class=\"dataframe\">\n",
              "  <thead>\n",
              "    <tr style=\"text-align: right;\">\n",
              "      <th></th>\n",
              "      <th>CRIM</th>\n",
              "      <th>ZN</th>\n",
              "      <th>INDUS</th>\n",
              "      <th>CHAS</th>\n",
              "      <th>NOX</th>\n",
              "      <th>RM</th>\n",
              "      <th>AGE</th>\n",
              "      <th>DIS</th>\n",
              "      <th>RAD</th>\n",
              "      <th>TAX</th>\n",
              "      <th>PTRATIO</th>\n",
              "      <th>B</th>\n",
              "      <th>LSTAT</th>\n",
              "      <th>MEDV</th>\n",
              "    </tr>\n",
              "  </thead>\n",
              "  <tbody>\n",
              "    <tr>\n",
              "      <th>0</th>\n",
              "      <td>0.00632</td>\n",
              "      <td>18.0</td>\n",
              "      <td>2.31</td>\n",
              "      <td>0.0</td>\n",
              "      <td>0.538</td>\n",
              "      <td>6.575</td>\n",
              "      <td>65.2</td>\n",
              "      <td>4.0900</td>\n",
              "      <td>1.0</td>\n",
              "      <td>296.0</td>\n",
              "      <td>15.3</td>\n",
              "      <td>396.90</td>\n",
              "      <td>4.98</td>\n",
              "      <td>24.0</td>\n",
              "    </tr>\n",
              "    <tr>\n",
              "      <th>1</th>\n",
              "      <td>0.02731</td>\n",
              "      <td>0.0</td>\n",
              "      <td>7.07</td>\n",
              "      <td>0.0</td>\n",
              "      <td>0.469</td>\n",
              "      <td>6.421</td>\n",
              "      <td>78.9</td>\n",
              "      <td>4.9671</td>\n",
              "      <td>2.0</td>\n",
              "      <td>242.0</td>\n",
              "      <td>17.8</td>\n",
              "      <td>396.90</td>\n",
              "      <td>9.14</td>\n",
              "      <td>21.6</td>\n",
              "    </tr>\n",
              "    <tr>\n",
              "      <th>2</th>\n",
              "      <td>0.02729</td>\n",
              "      <td>0.0</td>\n",
              "      <td>7.07</td>\n",
              "      <td>0.0</td>\n",
              "      <td>0.469</td>\n",
              "      <td>7.185</td>\n",
              "      <td>61.1</td>\n",
              "      <td>4.9671</td>\n",
              "      <td>2.0</td>\n",
              "      <td>242.0</td>\n",
              "      <td>17.8</td>\n",
              "      <td>392.83</td>\n",
              "      <td>4.03</td>\n",
              "      <td>34.7</td>\n",
              "    </tr>\n",
              "    <tr>\n",
              "      <th>3</th>\n",
              "      <td>0.03237</td>\n",
              "      <td>0.0</td>\n",
              "      <td>2.18</td>\n",
              "      <td>0.0</td>\n",
              "      <td>0.458</td>\n",
              "      <td>6.998</td>\n",
              "      <td>45.8</td>\n",
              "      <td>6.0622</td>\n",
              "      <td>3.0</td>\n",
              "      <td>222.0</td>\n",
              "      <td>18.7</td>\n",
              "      <td>394.63</td>\n",
              "      <td>2.94</td>\n",
              "      <td>33.4</td>\n",
              "    </tr>\n",
              "    <tr>\n",
              "      <th>4</th>\n",
              "      <td>0.06905</td>\n",
              "      <td>0.0</td>\n",
              "      <td>2.18</td>\n",
              "      <td>0.0</td>\n",
              "      <td>0.458</td>\n",
              "      <td>7.147</td>\n",
              "      <td>54.2</td>\n",
              "      <td>6.0622</td>\n",
              "      <td>3.0</td>\n",
              "      <td>222.0</td>\n",
              "      <td>18.7</td>\n",
              "      <td>396.90</td>\n",
              "      <td>5.33</td>\n",
              "      <td>36.2</td>\n",
              "    </tr>\n",
              "  </tbody>\n",
              "</table>\n",
              "</div>"
            ],
            "text/plain": [
              "      CRIM    ZN  INDUS  CHAS    NOX  ...    TAX  PTRATIO       B  LSTAT  MEDV\n",
              "0  0.00632  18.0   2.31   0.0  0.538  ...  296.0     15.3  396.90   4.98  24.0\n",
              "1  0.02731   0.0   7.07   0.0  0.469  ...  242.0     17.8  396.90   9.14  21.6\n",
              "2  0.02729   0.0   7.07   0.0  0.469  ...  242.0     17.8  392.83   4.03  34.7\n",
              "3  0.03237   0.0   2.18   0.0  0.458  ...  222.0     18.7  394.63   2.94  33.4\n",
              "4  0.06905   0.0   2.18   0.0  0.458  ...  222.0     18.7  396.90   5.33  36.2\n",
              "\n",
              "[5 rows x 14 columns]"
            ]
          },
          "metadata": {
            "tags": []
          },
          "execution_count": 4
        }
      ]
    },
    {
      "cell_type": "code",
      "metadata": {
        "id": "HYxUEtJSBBLj",
        "colab": {
          "base_uri": "https://localhost:8080/",
          "height": 620
        },
        "outputId": "a8ba2ac9-66df-4e91-8a14-5135705d6564"
      },
      "source": [
        "import matplotlib.pyplot as plt\n",
        "plt.figure(figsize=(20, 10))\n",
        "for i, col in enumerate([\"RM\", \"LSTAT\"]):\n",
        "    plt.subplot(1, 2, (i+1))\n",
        "    plt.plot(data[col], data[\"MEDV\"], 'o')\n",
        "    plt.title(col)\n",
        "    plt.xlabel(col)\n",
        "    plt.ylabel('MEDV')"
      ],
      "execution_count": null,
      "outputs": [
        {
          "output_type": "display_data",
          "data": {
            "image/png": "[encoded data removed]",
            "text/plain": [
              "<Figure size 1440x720 with 2 Axes>"
            ]
          },
          "metadata": {
            "tags": [],
            "needs_background": "light"
          }
        }
      ]
    },
    {
      "cell_type": "code",
      "metadata": {
        "id": "N8Ny3l2ZBBLp"
      },
      "source": [
        "X_filtered = data[(data[\"MEDV\"] < 50)][[\"RM\", \"LSTAT\"]]\n",
        "y_filtered = data[(data[\"MEDV\"] < 50)][\"MEDV\"]"
      ],
      "execution_count": null,
      "outputs": []
    },
    {
      "cell_type": "code",
      "metadata": {
        "id": "ibAm9qIlz4No"
      },
      "source": [
        "def z_scaler(feature):\n",
        "    return (feature - np.mean(feature)) / np.std(feature)"
      ],
      "execution_count": null,
      "outputs": []
    },
    {
      "cell_type": "code",
      "metadata": {
        "id": "oNEKwQ5qBBLt"
      },
      "source": [
        "X_scaled = z_scaler(X_filtered)\n",
        "y_scaled = z_scaler(y_filtered)"
      ],
      "execution_count": null,
      "outputs": []
    },
    {
      "cell_type": "code",
      "metadata": {
        "id": "jlhfciLY0_XI"
      },
      "source": [
        "class GDRegressor:\n",
        "\n",
        "    def __init__(self, alpha=0.01, n_iter=100, progress=True):\n",
        "        self.alpha = alpha\n",
        "        self.n_iter = n_iter\n",
        "        self.disable = not progress\n",
        "\n",
        "    def fit(self, X, y):\n",
        "        X = np.c_[np.ones((len(X), 1)), X] # Add a column of ones to x\n",
        "        self.theta = np.zeros(X.shape[1]) # initialize fitting parameters\n",
        "        self.loss = self.computeCost(X, y) # compute initial cost\n",
        "        self.theta = self.gradientDescent(X, y) # find final parameters\n",
        "        print(self.computeCost(X, y)) # compute and display final cost\n",
        "        self.intercept_ = self.theta[0]\n",
        "        self.coef_ = self.theta[1:]\n",
        "        \n",
        "    def predict(self, X_test):\n",
        "        X_test = np.c_[np.ones((len(X_test), 1)), X_test] # Add a column of ones to x\n",
        "        return X_test @ self.theta\n",
        "\n",
        "    def computeCost(self, X, y):\n",
        "        return np.square(np.mean(X @ self.theta - y)) / 2\n",
        "\n",
        "    def gradientDescent(self, X, y):\n",
        "        self.loss_history = self.loss\n",
        "        self.theta_history = self.theta\n",
        "        for _ in tqdm(np.arange(self.n_iter), disable=self.disable): # run gradient descent\n",
        "          self.theta -= self.alpha * (X @ self.theta - y) @ X / len(X)\n",
        "          self.theta_history = np.vstack([self.theta_history, self.theta])\n",
        "          self.loss = self.computeCost(X, y)\n",
        "          self.loss_history = np.hstack([self.loss_history, self.loss])\n",
        "        return self.theta"
      ],
      "execution_count": null,
      "outputs": []
    },
    {
      "cell_type": "code",
      "metadata": {
        "id": "n-5slZErBBLy",
        "colab": {
          "base_uri": "https://localhost:8080/",
          "height": 134,
          "referenced_widgets": [
            "3068ae62c08446be8ba414c87e4aba38",
            "3177c689829b4ffda5765c4109b59501",
            "e6fd72baad864e18aeeabcafd3d524e2",
            "7ae72ea3302f4a05b5bfbc3b5c6397a6",
            "1912b9a6f60b46169d595eda2fef6627",
            "3a27f4ebc34c484d9635fa543609cb07",
            "833bf2b0a20a49b19e36dfee88a3ae05",
            "08521b644ad24236abd92e686ec1f5b2"
          ]
        },
        "outputId": "27bd5b22-a164-489f-be6e-5eb0cab734d5"
      },
      "source": [
        "X_train, X_test, Y_train, Y_test =\\\n",
        "    train_test_split(X_scaled, y_scaled, test_size=0.33, random_state=18)\n",
        "model = GDRegressor(alpha=0.01, n_iter=300)\n",
        "%time model.fit(X_train, Y_train)\n",
        "model.coef_, model.intercept_"
      ],
      "execution_count": null,
      "outputs": [
        {
          "output_type": "display_data",
          "data": {
            "application/vnd.jupyter.widget-view+json": {
              "model_id": "3068ae62c08446be8ba414c87e4aba38",
              "version_minor": 0,
              "version_major": 2
            },
            "text/plain": [
              "HBox(children=(FloatProgress(value=0.0, max=300.0), HTML(value='')))"
            ]
          },
          "metadata": {
            "tags": []
          }
        },
        {
          "output_type": "stream",
          "text": [
            "\n",
            "1.158516581684042e-06\n",
            "CPU times: user 294 ms, sys: 8.73 ms, total: 303 ms\n",
            "Wall time: 330 ms\n"
          ],
          "name": "stdout"
        },
        {
          "output_type": "execute_result",
          "data": {
            "text/plain": [
              "(array([ 0.35397552, -0.52649765]), -0.03142180507283753)"
            ]
          },
          "metadata": {
            "tags": []
          },
          "execution_count": 10
        }
      ]
    },
    {
      "cell_type": "code",
      "metadata": {
        "id": "XSF9-ZRB1SHW"
      },
      "source": [
        "def plot_loss_function(model):\n",
        "    plt.xlabel(\"Iterations\")\n",
        "    plt.ylabel(\"Average square loss\")\n",
        "    plt.plot(np.arange(model.n_iter + 1), model.loss_history)"
      ],
      "execution_count": null,
      "outputs": []
    },
    {
      "cell_type": "code",
      "metadata": {
        "id": "sTxrKAiEBBL1",
        "colab": {
          "base_uri": "https://localhost:8080/",
          "height": 279
        },
        "outputId": "c1148a44-ad01-4caa-b71d-1b0c126d9aef"
      },
      "source": [
        "plot_loss_function(model)"
      ],
      "execution_count": null,
      "outputs": [
        {
          "output_type": "display_data",
          "data": {
            "image/png": "[encoded data removed]",
            "text/plain": [
              "<Figure size 432x288 with 1 Axes>"
            ]
          },
          "metadata": {
            "tags": [],
            "needs_background": "light"
          }
        }
      ]
    },
    {
      "cell_type": "code",
      "metadata": {
        "id": "yhD956-4BBL4",
        "colab": {
          "base_uri": "https://localhost:8080/"
        },
        "outputId": "55afd0ff-cb4b-4eac-9166-a61ed4377005"
      },
      "source": [
        "Y_pred = model.predict(X_test)\n",
        "mean_squared_error(Y_test, Y_pred), r2_score(Y_test, Y_pred)"
      ],
      "execution_count": null,
      "outputs": [
        {
          "output_type": "execute_result",
          "data": {
            "text/plain": [
              "(0.3488356401772447, 0.6983961377962583)"
            ]
          },
          "metadata": {
            "tags": []
          },
          "execution_count": 13
        }
      ]
    },
    {
      "cell_type": "code",
      "metadata": {
        "id": "50yBss7TBBMA",
        "colab": {
          "base_uri": "https://localhost:8080/",
          "height": 305
        },
        "outputId": "b169bbae-ceba-4b4c-992b-0fc65c9ac88e"
      },
      "source": [
        "plt.scatter(Y_test, Y_pred)\n",
        "plt.xlabel(\"Prices: $Y_i$\")\n",
        "plt.ylabel(\"Predicted prices: $\\hat{Y}_i$\")\n",
        "plt.title(\"Prices vs Predicted prices: $Y_i$ vs $\\hat{Y}_i$\");"
      ],
      "execution_count": null,
      "outputs": [
        {
          "output_type": "display_data",
          "data": {
            "image/png": "[encoded data removed]",
            "text/plain": [
              "<Figure size 432x288 with 1 Axes>"
            ]
          },
          "metadata": {
            "tags": [],
            "needs_background": "light"
          }
        }
      ]
    },
    {
      "cell_type": "code",
      "metadata": {
        "id": "9UB9nMpFBBMF",
        "colab": {
          "base_uri": "https://localhost:8080/",
          "height": 303
        },
        "outputId": "c3bafe08-2fe8-45f5-efd0-9dd2d6c4bb06"
      },
      "source": [
        "plt.xlabel(\"Predicted prices: $\\hat{Y}_i$\")\n",
        "plt.ylabel(\"Residuals: $\\hat{Y}_i - Y_i$\")\n",
        "plt.title(\"Predicted vs Residuals\");'''  '''\n",
        "plt.scatter(Y_pred, (Y_pred - Y_test.ravel()), alpha=0.5);"
      ],
      "execution_count": null,
      "outputs": [
        {
          "output_type": "display_data",
          "data": {
            "image/png": "[encoded data removed]",
            "text/plain": [
              "<Figure size 432x288 with 1 Axes>"
            ]
          },
          "metadata": {
            "tags": [],
            "needs_background": "light"
          }
        }
      ]
    },
    {
      "cell_type": "markdown",
      "metadata": {
        "id": "Cxz32dmxBBMK"
      },
      "source": [
        "Из графика хорошо видно, что есть нелинейная зависимость в остатках. Это \n",
        "связано с тем, что процент жителей с низким социальным статусом нелинейно \n",
        "зависит от средней цены на дом и среднего числа комнат:"
      ]
    },
    {
      "cell_type": "code",
      "metadata": {
        "id": "XXwdCMtrBBMK",
        "colab": {
          "base_uri": "https://localhost:8080/",
          "height": 294
        },
        "outputId": "c4fff45e-735e-47f2-e067-568b9228a2ee"
      },
      "source": [
        "colors = ['k' if v > data[\"MEDV\"].median() else 'b' for v in data[\"MEDV\"]]\n",
        "plt.scatter(data[\"RM\"], data[\"LSTAT\"], c=colors, alpha=0.5)\n",
        "plt.xlabel(\"RM\");\n",
        "plt.ylabel(\"LSTAT\");\n",
        "plt.title(\"RM vs LSTAT\")\n",
        "plt.show()"
      ],
      "execution_count": null,
      "outputs": [
        {
          "output_type": "display_data",
          "data": {
            "image/png": "[encoded data removed]",
            "text/plain": [
              "<Figure size 432x288 with 1 Axes>"
            ]
          },
          "metadata": {
            "tags": [],
            "needs_background": "light"
          }
        }
      ]
    },
    {
      "cell_type": "code",
      "metadata": {
        "id": "hVvFCapVBBMR",
        "colab": {
          "base_uri": "https://localhost:8080/",
          "height": 319
        },
        "outputId": "ebe7a24f-963f-47b3-a99b-bb14b873945e"
      },
      "source": [
        "from mpl_toolkits.mplot3d import Axes3D\n",
        "fig = plt.figure() # figsize=(15, 10))\n",
        "ax = Axes3D(fig)\n",
        "ax.set_xlabel('RM')\n",
        "ax.set_ylabel('LSTAT')\n",
        "ax.set_zlabel('MEDV');\n",
        "ax.view_init(azim=120)\n",
        "ax.scatter3D(data[\"RM\"], data[\"LSTAT\"], data[\"MEDV\"])\n",
        "plt.show()"
      ],
      "execution_count": null,
      "outputs": [
        {
          "output_type": "display_data",
          "data": {
            "image/png": "[encoded data removed]",
            "text/plain": [
              "<Figure size 432x288 with 1 Axes>"
            ]
          },
          "metadata": {
            "tags": [],
            "needs_background": "light"
          }
        }
      ]
    },
    {
      "cell_type": "markdown",
      "metadata": {
        "id": "_iFljiRHBBMb"
      },
      "source": [
        "Эту зависимость наша модель в настоящий момент не описывает. Таким образом, мы должны добавить в нашу модель нелинейные признаки."
      ]
    },
    {
      "cell_type": "markdown",
      "metadata": {
        "id": "g2LoG7YPBBMc"
      },
      "source": [
        "### Добавление полиномиальных признаков"
      ]
    },
    {
      "cell_type": "markdown",
      "metadata": {
        "id": "fxF8RmCLBBMc"
      },
      "source": [
        "Итак, для описания нелинейной зависимости мы будем использовать полиномиальную модель. Предположим, что полинома четвертой степени достаточно для описания зависимости. Возможно будет достаточно полинома второй или третьей степени, поэтому, чтобы «занулить» некоторые коэффициенты $\\theta$, мы будем использовать L1-регуляризацию."
      ]
    },
    {
      "cell_type": "code",
      "metadata": {
        "id": "b73Fzf-RBBMc"
      },
      "source": [
        "from sklearn.preprocessing import PolynomialFeatures"
      ],
      "execution_count": null,
      "outputs": []
    },
    {
      "cell_type": "code",
      "metadata": {
        "id": "7Cg5jjhMBBMh"
      },
      "source": [
        "poly = PolynomialFeatures(4, include_bias=False)\n",
        "X_filtered_poly = poly.fit_transform(X_filtered)"
      ],
      "execution_count": null,
      "outputs": []
    },
    {
      "cell_type": "code",
      "metadata": {
        "id": "M7Y3-T4YBBMk"
      },
      "source": [
        "X_train, X_test, Y_train, Y_test =\\\n",
        "    train_test_split(X_filtered_poly, y_filtered, test_size = 0.33, random_state = 18)\n",
        "x_scaler = StandardScaler()\n",
        "y_scaler = StandardScaler()\n",
        "X_train = x_scaler.fit_transform(X_train)\n",
        "Y_train = y_scaler.fit_transform(Y_train.values.reshape(-1, 1))\n",
        "X_test = x_scaler.transform(X_test)\n",
        "Y_test = y_scaler.transform(Y_test.values.reshape(-1, 1))"
      ],
      "execution_count": null,
      "outputs": []
    },
    {
      "cell_type": "code",
      "metadata": {
        "id": "uW7en8qBBBMo",
        "colab": {
          "base_uri": "https://localhost:8080/"
        },
        "outputId": "fda07398-e418-4a47-846d-db92942c6f93"
      },
      "source": [
        "model = SGDRegressor(\n",
        "    loss='squared_loss',\n",
        "    penalty='l1', #!!\n",
        "    alpha=0.01, # regularisation parameter #!!\n",
        "    learning_rate='constant',\n",
        "    max_iter=1000,\n",
        "    eta0=0.005 # Learning rate\n",
        ")\n",
        "model.fit(X_train, Y_train.ravel())"
      ],
      "execution_count": null,
      "outputs": [
        {
          "output_type": "execute_result",
          "data": {
            "text/plain": [
              "SGDRegressor(alpha=0.01, average=False, early_stopping=False, epsilon=0.1,\n",
              "             eta0=0.005, fit_intercept=True, l1_ratio=0.15,\n",
              "             learning_rate='constant', loss='squared_loss', max_iter=1000,\n",
              "             n_iter_no_change=5, penalty='l1', power_t=0.25, random_state=None,\n",
              "             shuffle=True, tol=0.001, validation_fraction=0.1, verbose=0,\n",
              "             warm_start=False)"
            ]
          },
          "metadata": {
            "tags": []
          },
          "execution_count": 21
        }
      ]
    },
    {
      "cell_type": "code",
      "metadata": {
        "id": "OtoxYPJTBBMr",
        "colab": {
          "base_uri": "https://localhost:8080/"
        },
        "outputId": "dd4cdc31-9103-4476-8b52-d6f4abe1d978"
      },
      "source": [
        "Y_pred = model.predict(X_test)\n",
        "mean_squared_error(Y_test, Y_pred), r2_score(Y_test, Y_pred)"
      ],
      "execution_count": null,
      "outputs": [
        {
          "output_type": "execute_result",
          "data": {
            "text/plain": [
              "(0.24520400451992172, 0.8054579269371747)"
            ]
          },
          "metadata": {
            "tags": []
          },
          "execution_count": 22
        }
      ]
    },
    {
      "cell_type": "code",
      "metadata": {
        "id": "4HMzr84BBBMz",
        "colab": {
          "base_uri": "https://localhost:8080/",
          "height": 305
        },
        "outputId": "917486bb-d0fe-4582-c314-ce20d24d9e6c"
      },
      "source": [
        "plt.scatter(Y_test, Y_pred)\n",
        "plt.xlabel(\"Prices: $Y_i$\")\n",
        "plt.ylabel(\"Predicted prices: $\\hat{Y}_i$\")\n",
        "plt.title(\"Prices vs Predicted prices: $Y_i$ vs $\\hat{Y}_i$\");"
      ],
      "execution_count": null,
      "outputs": [
        {
          "output_type": "display_data",
          "data": {
            "image/png": "[encoded data removed]",
            "text/plain": [
              "<Figure size 432x288 with 1 Axes>"
            ]
          },
          "metadata": {
            "tags": [],
            "needs_background": "light"
          }
        }
      ]
    },
    {
      "cell_type": "code",
      "metadata": {
        "id": "335rHhMZBBM2",
        "colab": {
          "base_uri": "https://localhost:8080/",
          "height": 303
        },
        "outputId": "fdabca99-6725-497e-f015-73bb46c2a7c3"
      },
      "source": [
        "fig = plt.figure()\n",
        "plt.scatter(Y_pred, (Y_pred-Y_test.reshape(1, -1)), alpha=0.5);\n",
        "plt.xlabel(\"Predicted prices: $\\hat{Y}_i$\")\n",
        "plt.ylabel(\"Residuals: $\\hat{Y}_i - Y_i$\")\n",
        "plt.title(\"Predicted vs Residuals\");\n",
        "fig.savefig('lr_residuals3.png', dpi=fig.dpi)"
      ],
      "execution_count": null,
      "outputs": [
        {
          "output_type": "display_data",
          "data": {
            "image/png": "[encoded data removed]",
            "text/plain": [
              "<Figure size 432x288 with 1 Axes>"
            ]
          },
          "metadata": {
            "tags": [],
            "needs_background": "light"
          }
        }
      ]
    },
    {
      "cell_type": "code",
      "metadata": {
        "id": "lrj8vTylBBM5",
        "colab": {
          "base_uri": "https://localhost:8080/"
        },
        "outputId": "181c949f-706e-4db6-cd7c-e476cd81308c"
      },
      "source": [
        "model.coef_, model.intercept_"
      ],
      "execution_count": null,
      "outputs": [
        {
          "output_type": "execute_result",
          "data": {
            "text/plain": [
              "(array([ 0.        ,  0.        ,  0.07844113, -0.07443951,  0.        ,\n",
              "         0.19288524, -0.21666298,  0.        ,  0.        ,  0.22452851,\n",
              "        -0.2958603 ,  0.        ,  0.        ,  0.05685711]),\n",
              " array([-0.00457272]))"
            ]
          },
          "metadata": {
            "tags": []
          },
          "execution_count": 25
        }
      ]
    },
    {
      "cell_type": "code",
      "metadata": {
        "id": "p77bfUyzBBM7",
        "colab": {
          "base_uri": "https://localhost:8080/"
        },
        "outputId": "b8cbf740-59f6-45a9-ddc1-0ea716b265f8"
      },
      "source": [
        "poly.get_feature_names(X_filtered.columns)"
      ],
      "execution_count": null,
      "outputs": [
        {
          "output_type": "execute_result",
          "data": {
            "text/plain": [
              "['RM',\n",
              " 'LSTAT',\n",
              " 'RM^2',\n",
              " 'RM LSTAT',\n",
              " 'LSTAT^2',\n",
              " 'RM^3',\n",
              " 'RM^2 LSTAT',\n",
              " 'RM LSTAT^2',\n",
              " 'LSTAT^3',\n",
              " 'RM^4',\n",
              " 'RM^3 LSTAT',\n",
              " 'RM^2 LSTAT^2',\n",
              " 'RM LSTAT^3',\n",
              " 'LSTAT^4']"
            ]
          },
          "metadata": {
            "tags": []
          },
          "execution_count": 26
        }
      ]
    },
    {
      "cell_type": "markdown",
      "metadata": {
        "id": "7aF-1-PqvVl1"
      },
      "source": [
        "Проверяем нашу модель на работу со множественными полиномиальными фичами:"
      ]
    },
    {
      "cell_type": "code",
      "metadata": {
        "colab": {
          "base_uri": "https://localhost:8080/",
          "height": 185,
          "referenced_widgets": [
            "38a6eebd8910438f802da62d864b60ae",
            "33fef23fd52144d3b0bb272a44559bcf",
            "2da10574c9a64990a6aad990d473035b",
            "7bbde37939824307b38a06a7dfc9421a",
            "bd7c159e2db045e99ef1567953a04071",
            "b7f5e149d10f44bc97ee86a7f781b279",
            "c056323eb9b5499e860b249a9c99358e",
            "75c90c25cad14ad2ab6788b5f182f71b"
          ]
        },
        "id": "wtnp0fzpAQPv",
        "outputId": "37c846ab-5016-4190-cbda-20a5bfc468d8"
      },
      "source": [
        "model = GDRegressor(alpha=0.04, n_iter=5000)\n",
        "%time model.fit(X_train, Y_train.ravel())\n",
        "model.coef_, model.intercept_"
      ],
      "execution_count": null,
      "outputs": [
        {
          "output_type": "display_data",
          "data": {
            "application/vnd.jupyter.widget-view+json": {
              "model_id": "38a6eebd8910438f802da62d864b60ae",
              "version_minor": 0,
              "version_major": 2
            },
            "text/plain": [
              "HBox(children=(FloatProgress(value=0.0, max=5000.0), HTML(value='')))"
            ]
          },
          "metadata": {
            "tags": []
          }
        },
        {
          "output_type": "stream",
          "text": [
            "\n",
            "6.622174347744332e-35\n",
            "CPU times: user 730 ms, sys: 30.8 ms, total: 761 ms\n",
            "Wall time: 807 ms\n"
          ],
          "name": "stdout"
        },
        {
          "output_type": "execute_result",
          "data": {
            "text/plain": [
              "(array([-0.22540041,  0.15544204,  0.3719951 , -0.06843716,  0.03574962,\n",
              "         0.4578459 , -0.21059111,  0.0199904 , -0.05940549,  0.04995925,\n",
              "        -0.3566665 , -0.06807309,  0.01831631,  0.05594983]),\n",
              " 2.0540977032445265e-15)"
            ]
          },
          "metadata": {
            "tags": []
          },
          "execution_count": 27
        }
      ]
    },
    {
      "cell_type": "code",
      "metadata": {
        "colab": {
          "base_uri": "https://localhost:8080/"
        },
        "id": "b17yJ0idvpP0",
        "outputId": "6fdf7911-05e2-47ce-a326-80929be2ae38"
      },
      "source": [
        "Y_pred = model.predict(X_test)\n",
        "mean_squared_error(Y_test, Y_pred), r2_score(Y_test, Y_pred)"
      ],
      "execution_count": null,
      "outputs": [
        {
          "output_type": "execute_result",
          "data": {
            "text/plain": [
              "(0.22235111706815733, 0.8235891483625428)"
            ]
          },
          "metadata": {
            "tags": []
          },
          "execution_count": 28
        }
      ]
    },
    {
      "cell_type": "markdown",
      "metadata": {
        "id": "6Jywox7-v9qz"
      },
      "source": [
        "Что очень близко к показателям линейной модели sklearn или лучше их.\n"
      ]
    },
    {
      "cell_type": "markdown",
      "metadata": {
        "id": "XSpPFr8UBBNA"
      },
      "source": [
        "### Задания\n",
        "\n",
        "- Постройте кривые обучения\n",
        "- Какие еще признаки, кроме `LSTAT`, могут улучшить нашу модель? Отберите лучшие, ориентируйтесь на кривые обучения, а также проверяйте ваши модели на валидационных данных.\n",
        "- Добавьте L2 (Lasso) регуляризацию в класс `GDRegressor`"
      ]
    },
    {
      "cell_type": "markdown",
      "metadata": {
        "id": "wWHVVoMm6_WY"
      },
      "source": [
        "Строим [кривые обучения 2](https://www.dataquest.io/blog/learning-curves-machine-learning/):"
      ]
    },
    {
      "cell_type": "code",
      "metadata": {
        "id": "mMXPgJI-1_Or"
      },
      "source": [
        "from sklearn.linear_model import LinearRegression\n",
        "from sklearn.model_selection import learning_curve\n",
        "\n",
        "train_sizes = [1, 50, 100, 200, 300, 404] # 80/20 ratio for train/validation samples\n",
        "\n",
        "features = ['RM', 'LSTAT']\n",
        "target = 'MEDV'\n",
        "train_sizes, train_scores, validation_scores = learning_curve(\n",
        "estimator = LinearRegression(),\n",
        "shuffle = True,\n",
        "X = data[features],\n",
        "y = data[target], train_sizes = train_sizes, cv = 5,\n",
        "scoring = 'neg_mean_squared_error')"
      ],
      "execution_count": null,
      "outputs": []
    },
    {
      "cell_type": "code",
      "metadata": {
        "colab": {
          "base_uri": "https://localhost:8080/"
        },
        "id": "iNcwqEVR7EvE",
        "outputId": "d1a29fb1-04e8-4dbb-9cdd-ac36976347fe"
      },
      "source": [
        "print('Training scores:\\n\\n', train_scores)\n",
        "print('\\n', '-' * 70) # separator to make the output easy to read\n",
        "print('\\nValidation scores:\\n\\n', validation_scores)"
      ],
      "execution_count": null,
      "outputs": [
        {
          "output_type": "stream",
          "text": [
            "Training scores:\n",
            "\n",
            " [[ -0.          -0.          -0.          -0.          -0.        ]\n",
            " [-47.70047818 -30.39024484 -24.95922623 -11.15739151 -19.0214736 ]\n",
            " [-36.71735265 -27.84976857 -16.76230116 -13.63267681 -16.41844227]\n",
            " [-38.59349131 -25.57734335 -23.25802978 -20.86323312 -25.02311067]\n",
            " [-36.2708886  -25.36012888 -32.31108127 -23.01878384 -28.70422863]\n",
            " [-35.5401817  -31.34229888 -29.21018362 -21.81055508 -30.21792647]]\n",
            "\n",
            " ----------------------------------------------------------------------\n",
            "\n",
            "Validation scores:\n",
            "\n",
            " [[ -55.70421569 -100.51217822 -190.44118812 -111.11445545  -53.62831683]\n",
            " [ -25.09013451  -44.62381472  -67.51859615  -47.34170097  -36.17028063]\n",
            " [ -18.67603185  -25.36714799  -68.99655912  -57.28375422  -45.52516887]\n",
            " [ -14.15571323  -26.41891311  -54.18477708  -65.08700339  -38.81997252]\n",
            " [ -13.52105881  -25.7981476   -55.01962128  -68.122282    -40.27835313]\n",
            " [ -11.78879381  -29.07378626  -47.83488343  -71.27472677  -36.53141369]]\n"
          ],
          "name": "stdout"
        }
      ]
    },
    {
      "cell_type": "code",
      "metadata": {
        "colab": {
          "base_uri": "https://localhost:8080/"
        },
        "id": "-VkgDyLO7H-Q",
        "outputId": "fe0f6b8c-c97c-4b22-c910-ef97876c6faa"
      },
      "source": [
        "train_scores_mean = -train_scores.mean(axis = 1)\n",
        "validation_scores_mean = -validation_scores.mean(axis = 1)\n",
        "print('Mean training scores\\n\\n', pd.Series(train_scores_mean, index = train_sizes))\n",
        "print('\\n', '-' * 20) # separator\n",
        "print('\\nMean validation scores\\n\\n',pd.Series(validation_scores_mean, index = train_sizes))"
      ],
      "execution_count": null,
      "outputs": [
        {
          "output_type": "stream",
          "text": [
            "Mean training scores\n",
            "\n",
            " 1      -0.000000\n",
            "50     26.645763\n",
            "100    22.276108\n",
            "200    26.663042\n",
            "300    29.133022\n",
            "404    29.624229\n",
            "dtype: float64\n",
            "\n",
            " --------------------\n",
            "\n",
            "Mean validation scores\n",
            "\n",
            " 1      102.280071\n",
            "50      44.148905\n",
            "100     43.169732\n",
            "200     39.733276\n",
            "300     40.547893\n",
            "404     39.300721\n",
            "dtype: float64\n"
          ],
          "name": "stdout"
        }
      ]
    },
    {
      "cell_type": "code",
      "metadata": {
        "colab": {
          "base_uri": "https://localhost:8080/",
          "height": 410
        },
        "id": "fj6sakUC7LM7",
        "outputId": "27eda892-83b3-4fb8-994a-b1168c60c99b"
      },
      "source": [
        "plt.style.use('seaborn')\n",
        "plt.plot(train_sizes, train_scores_mean, label = 'Training error')\n",
        "plt.plot(train_sizes, validation_scores_mean, label = 'Validation error')\n",
        "plt.ylabel('MSE', fontsize = 14)\n",
        "plt.xlabel('Training set size', fontsize = 14)\n",
        "plt.title('Learning curves for a multi linear regression model', fontsize = 18, y = 1.03)\n",
        "plt.legend()\n",
        "plt.ylim(0,100)"
      ],
      "execution_count": null,
      "outputs": [
        {
          "output_type": "execute_result",
          "data": {
            "text/plain": [
              "(0.0, 100.0)"
            ]
          },
          "metadata": {
            "tags": []
          },
          "execution_count": 32
        },
        {
          "output_type": "display_data",
          "data": {
            "image/png": "[encoded data removed]",
            "text/plain": [
              "<Figure size 576x396 with 1 Axes>"
            ]
          },
          "metadata": {
            "tags": []
          }
        }
      ]
    },
    {
      "cell_type": "markdown",
      "metadata": {
        "id": "0NataHF2zRwQ"
      },
      "source": [
        "Добавим ещё две фичи, хорошо коррелированных с MEDV -- это PTRATIO и INDUS."
      ]
    },
    {
      "cell_type": "code",
      "metadata": {
        "id": "kPWGezUg5_dY"
      },
      "source": [
        "features = ['RM', 'LSTAT', 'PTRATIO', 'INDUS']\n",
        "target = 'MEDV'\n",
        "train_sizes, train_scores, validation_scores = learning_curve(\n",
        "estimator = LinearRegression(),\n",
        "shuffle = True,\n",
        "X = data[features],\n",
        "y = data[target], train_sizes = train_sizes, cv = 5,\n",
        "scoring = 'neg_mean_squared_error')"
      ],
      "execution_count": null,
      "outputs": []
    },
    {
      "cell_type": "code",
      "metadata": {
        "colab": {
          "base_uri": "https://localhost:8080/"
        },
        "id": "Uv2jLQjB6AX6",
        "outputId": "87ef64f2-dbe9-4671-bbdf-43d07f1608c6"
      },
      "source": [
        "print('Training scores:\\n\\n', train_scores)\n",
        "print('\\n', '-' * 70) # separator to make the output easy to read\n",
        "print('\\nValidation scores:\\n\\n', validation_scores)"
      ],
      "execution_count": null,
      "outputs": [
        {
          "output_type": "stream",
          "text": [
            "Training scores:\n",
            "\n",
            " [[ -0.          -0.          -0.          -0.          -0.        ]\n",
            " [-20.20698544 -24.41620883 -16.73751857 -22.75873262 -12.27274293]\n",
            " [-25.59301669 -23.60260609 -20.74012042 -20.17917783 -18.69122573]\n",
            " [-30.88447228 -29.00816155 -27.86971198 -17.35961603 -27.60476435]\n",
            " [-30.87262556 -28.31671065 -27.06586267 -18.73990456 -28.51786846]\n",
            " [-31.75725285 -27.84763247 -26.83227956 -17.51506789 -27.80908878]]\n",
            "\n",
            " ----------------------------------------------------------------------\n",
            "\n",
            "Validation scores:\n",
            "\n",
            " [[ -38.14147059 -100.51217822 -102.22376238  -90.47534653  -87.42831683]\n",
            " [  -9.24044771  -38.61072544  -78.62443985  -79.8070106   -49.61348735]\n",
            " [  -9.03042612  -29.41748165  -52.28124973  -78.12565373  -28.39716137]\n",
            " [ -10.79275663  -28.7987962   -37.82254041  -73.39703572  -33.55532609]\n",
            " [ -10.39676924  -26.45778882  -38.24139048  -70.30058623  -28.08477745]\n",
            " [  -9.41474444  -27.094392    -36.63586883  -74.66269787  -29.63351619]]\n"
          ],
          "name": "stdout"
        }
      ]
    },
    {
      "cell_type": "code",
      "metadata": {
        "colab": {
          "base_uri": "https://localhost:8080/"
        },
        "id": "3xlHKJZV6El9",
        "outputId": "4b6ecffe-8bb8-4fad-bd36-bf7655dd2e56"
      },
      "source": [
        "train_scores_mean = -train_scores.mean(axis = 1)\n",
        "validation_scores_mean = -validation_scores.mean(axis = 1)\n",
        "print('Mean training scores\\n\\n', pd.Series(train_scores_mean, index = train_sizes))\n",
        "print('\\n', '-' * 20) # separator\n",
        "print('\\nMean validation scores\\n\\n',pd.Series(validation_scores_mean, index = train_sizes))"
      ],
      "execution_count": null,
      "outputs": [
        {
          "output_type": "stream",
          "text": [
            "Mean training scores\n",
            "\n",
            " 1      -0.000000\n",
            "50     19.278438\n",
            "100    21.761229\n",
            "200    26.545345\n",
            "300    26.702594\n",
            "404    26.352264\n",
            "dtype: float64\n",
            "\n",
            " --------------------\n",
            "\n",
            "Mean validation scores\n",
            "\n",
            " 1      83.756215\n",
            "50     51.179222\n",
            "100    39.450395\n",
            "200    36.873291\n",
            "300    34.696262\n",
            "404    35.488244\n",
            "dtype: float64\n"
          ],
          "name": "stdout"
        }
      ]
    },
    {
      "cell_type": "code",
      "metadata": {
        "colab": {
          "base_uri": "https://localhost:8080/",
          "height": 410
        },
        "id": "Syff5JNI6ERr",
        "outputId": "761912e1-5cee-4324-edba-41cdaf938c8c"
      },
      "source": [
        "plt.style.use('seaborn')\n",
        "plt.plot(train_sizes, train_scores_mean, label = 'Training error')\n",
        "plt.plot(train_sizes, validation_scores_mean, label = 'Validation error')\n",
        "plt.ylabel('MSE', fontsize = 14)\n",
        "plt.xlabel('Training set size', fontsize = 14)\n",
        "plt.title('Learning curves for a multi linear regression model', fontsize = 18, y = 1.03)\n",
        "plt.legend()\n",
        "plt.ylim(0,100)"
      ],
      "execution_count": null,
      "outputs": [
        {
          "output_type": "execute_result",
          "data": {
            "text/plain": [
              "(0.0, 100.0)"
            ]
          },
          "metadata": {
            "tags": []
          },
          "execution_count": 36
        },
        {
          "output_type": "display_data",
          "data": {
            "image/png": "[encoded data removed]",
            "text/plain": [
              "<Figure size 576x396 with 1 Axes>"
            ]
          },
          "metadata": {
            "tags": []
          }
        }
      ]
    },
    {
      "cell_type": "markdown",
      "metadata": {
        "id": "Fggjm-gxzoKk"
      },
      "source": [
        "Добавляем [Lasso регуляризацию](https://towardsdatascience.com/ridge-and-lasso-regression-a-complete-guide-with-python-scikit-learn-e20e34bcbf0b) и проверяем её работу."
      ]
    },
    {
      "cell_type": "code",
      "metadata": {
        "id": "pLALhRzLlU6K"
      },
      "source": [
        "X_filtered = data[(boston['target'] < 50)][boston.feature_names] # Get all 13 features\n",
        "y_filtered = data[(boston['target'] < 50)][\"MEDV\"] # Filter them\n",
        "\n",
        "poly = PolynomialFeatures(4, include_bias=False) # And make them polynomial\n",
        "X_filtered_poly = poly.fit_transform(X_filtered)"
      ],
      "execution_count": null,
      "outputs": []
    },
    {
      "cell_type": "code",
      "metadata": {
        "colab": {
          "base_uri": "https://localhost:8080/"
        },
        "id": "w80NQ275hJaI",
        "outputId": "a93acd0b-cc1e-41fe-ecaf-92c78e7c3a35"
      },
      "source": [
        "print ('Yep, we have', X_filtered_poly.shape[1], 'features now. Congrats!')"
      ],
      "execution_count": null,
      "outputs": [
        {
          "output_type": "stream",
          "text": [
            "Yep, we have 2379 features now. Congrats!\n"
          ],
          "name": "stdout"
        }
      ]
    },
    {
      "cell_type": "code",
      "metadata": {
        "id": "_VU2ULdckFxu"
      },
      "source": [
        "X_train, X_test, Y_train, Y_test =\\\n",
        "    train_test_split(X_filtered_poly, y_filtered, test_size = 0.33, random_state = 18)\n",
        "x_scaler = StandardScaler()\n",
        "y_scaler = StandardScaler()\n",
        "X_train = x_scaler.fit_transform(X_train)\n",
        "Y_train = y_scaler.fit_transform(Y_train.values.reshape(-1, 1))\n",
        "X_test = x_scaler.transform(X_test)\n",
        "Y_test = y_scaler.transform(Y_test.values.reshape(-1, 1))"
      ],
      "execution_count": null,
      "outputs": []
    },
    {
      "cell_type": "code",
      "metadata": {
        "colab": {
          "base_uri": "https://localhost:8080/"
        },
        "id": "cRKbJpN2SjqZ",
        "outputId": "e7b93bb4-023d-4706-f06f-aac4f159ee77"
      },
      "source": [
        "from sklearn.linear_model import Lasso\n",
        "\n",
        "lasso = Lasso(alpha=0.003, max_iter=10e5) # ! жак подбор\n",
        "lasso.fit(X_train,Y_train)\n",
        "train_score=lasso.score(X_train,Y_train)\n",
        "test_score=lasso.score(X_test,Y_test)\n",
        "coeff_used = np.sum(lasso.coef_!=0)\n",
        "print (\"training score:\", train_score) \n",
        "print (\"test score: \", test_score)\n",
        "print (\"number of features used:\", coeff_used)\n",
        "print(\"theta\", lasso.coef_, lasso.intercept_)"
      ],
      "execution_count": null,
      "outputs": [
        {
          "output_type": "stream",
          "text": [
            "training score: 0.9271776240484987\n",
            "test score:  0.8834544526800633\n",
            "number of features used: 75\n",
            "theta [ 0.         -0.          0.         ...  0.          0.\n",
            "  0.12094435] [2.75059516e-16]\n"
          ],
          "name": "stdout"
        }
      ]
    },
    {
      "cell_type": "code",
      "metadata": {
        "colab": {
          "base_uri": "https://localhost:8080/"
        },
        "id": "0_5KAmT3gub1",
        "outputId": "4a74adf4-0482-43b5-a6f2-7cf0546ef72b"
      },
      "source": [
        "Y_pred = lasso.predict(X_test)\n",
        "mean_squared_error(Y_test, Y_pred), r2_score(Y_test, Y_pred)"
      ],
      "execution_count": null,
      "outputs": [
        {
          "output_type": "execute_result",
          "data": {
            "text/plain": [
              "(0.14689591028767207, 0.8834544526800632)"
            ]
          },
          "metadata": {
            "tags": []
          },
          "execution_count": 41
        }
      ]
    },
    {
      "cell_type": "markdown",
      "metadata": {
        "id": "UpIvPcIbRsmc"
      },
      "source": [
        "Что лучше любых предыдущих оценок качества модели.\n",
        "\n",
        "Сравниваем с простой линейной моделью (без регуляризации):"
      ]
    },
    {
      "cell_type": "code",
      "metadata": {
        "colab": {
          "base_uri": "https://localhost:8080/"
        },
        "id": "LUsqlprVQAdb",
        "outputId": "d99cb336-84cf-4a3c-d656-4ccf2019fac1"
      },
      "source": [
        "lr = LinearRegression()\n",
        "lr.fit(X_train,Y_train)\n",
        "lr_train_score=lr.score(X_train,Y_train)\n",
        "lr_test_score=lr.score(X_test,Y_test)\n",
        "coeff_used = np.sum(lr.coef_!=0)\n",
        "print (\"training score:\", lr_train_score) \n",
        "print (\"test score: \", lr_test_score)\n",
        "print (\"number of features used:\", coeff_used)\n",
        "print(\"theta\", lr.coef_, lr.intercept_)"
      ],
      "execution_count": null,
      "outputs": [
        {
          "output_type": "stream",
          "text": [
            "training score: 1.0\n",
            "test score:  -46.110087850807766\n",
            "number of features used: 2379\n",
            "theta [[ 1.18849042 -0.74310356 -1.83741158 ... 11.21272864  1.86976335\n",
            "  -4.48840105]] [1.1096405e-13]\n"
          ],
          "name": "stdout"
        }
      ]
    },
    {
      "cell_type": "code",
      "metadata": {
        "colab": {
          "base_uri": "https://localhost:8080/"
        },
        "id": "oxbdkctmQDLy",
        "outputId": "bc8f2afd-42d3-45b3-e9c8-7291fed220fa"
      },
      "source": [
        "Y_pred = lr.predict(X_test)\n",
        "mean_squared_error(Y_test, Y_pred), r2_score(Y_test, Y_pred)"
      ],
      "execution_count": null,
      "outputs": [
        {
          "output_type": "execute_result",
          "data": {
            "text/plain": [
              "(59.37832373449064, -46.11008785080776)"
            ]
          },
          "metadata": {
            "tags": []
          },
          "execution_count": 43
        }
      ]
    },
    {
      "cell_type": "markdown",
      "metadata": {
        "id": "1tlvLWdmczmT"
      },
      "source": [
        "Модель без регуляризации безнадёжно переобучена."
      ]
    }
  ]
}