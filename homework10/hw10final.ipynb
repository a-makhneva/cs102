{
  "nbformat": 4,
  "nbformat_minor": 0,
  "metadata": {
    "colab": {
      "name": "hw10final",
      "provenance": [],
      "collapsed_sections": []
    },
    "kernelspec": {
      "name": "python3",
      "display_name": "Python 3"
    },
    "language_info": {
      "name": "python"
    }
  },
  "cells": [
    {
      "cell_type": "markdown",
      "metadata": {
        "id": "SpmFslc-UdW0"
      },
      "source": [
        "### Классификация\n",
        "\n",
        "Вы уже встречались с задачей классфикации в работе [«Персонализация новостной ленты Hacker News»](http://127.0.0.1:4000/2017/11/22/06-hackernews/). В общем виде задачу классификации можно представить следующим образом: имеется множество объектов, которые разделены на классы по некоторым признакам. Например, успевающие студенты и отстающие студенты. В обучающей выборке задано конечное множество объектов и их признаков. Например, перечень всех студентов учебного заведения и все оценки по прошедшим и текущим дисциплинам. Для каждого из объектов обучающей выборки известно, к каким классам они относятся. Принадлежность же остальных объектов к классам неизвестна. Требуется построить алгоритм, способный классифицировать произвольный объект из исходного множества, то есть указать наименование (или номер) класса, к которому объект отнесён в результате применения алгоритма классификации.\n",
        "\n",
        "### *Логистическая регрессия*\n",
        "\n",
        "Давайте рассмотрим логистическую регрессию на примере набора данных цветов ириса.\n",
        "\n",
        "Для простоты будем использовать только два признака `Sepal Width` и `Sepal Length`, а также два класса `Setosa` и `Versicolor`:"
      ]
    },
    {
      "cell_type": "code",
      "metadata": {
        "id": "Cv2EQj08UgId"
      },
      "source": [
        "import math\n",
        "import pandas as pd\n",
        "import numpy as np\n",
        "import matplotlib.pyplot as plt\n",
        "import seaborn as sns\n",
        "from sklearn import datasets\n",
        "%matplotlib inline"
      ],
      "execution_count": 1,
      "outputs": []
    },
    {
      "cell_type": "code",
      "metadata": {
        "id": "veHnjZ3gUkOo",
        "colab": {
          "base_uri": "https://localhost:8080/",
          "height": 282
        },
        "outputId": "c7fe415a-47ca-4cd9-d008-378604ffe3b0"
      },
      "source": [
        "data = datasets.load_iris()\n",
        "X = data.data[:100, :2]\n",
        "y = data.target[:100]\n",
        "\n",
        "setosa = plt.scatter(X[:50,0], X[:50,1], c='b')\n",
        "versicolor = plt.scatter(X[50:,0], X[50:,1], c='r')\n",
        "plt.xlabel(\"Sepal Length\")\n",
        "plt.ylabel(\"Sepal Width\")\n",
        "plt.legend((setosa, versicolor), (\"Setosa\", \"Versicolor\"))\n",
        "sns.despine()"
      ],
      "execution_count": 2,
      "outputs": [
        {
          "output_type": "display_data",
          "data": {
            "image/png": "[encoded data removed]",
            "text/plain": [
              "<Figure size 432x288 with 1 Axes>"
            ]
          },
          "metadata": {
            "tags": [],
            "needs_background": "light"
          }
        }
      ]
    },
    {
      "cell_type": "markdown",
      "metadata": {
        "id": "t3mH9SwHUlCL"
      },
      "source": [
        "Итак, наша задача построить разделяющую границу (decision boundary), которая бы позволила нам отделить наблюдения одного класса (`Setosa`) от другого (`Versicolor`). Одним из напрашиваемых решений является представление зависимой переменной в виде линейной комбинации признаков (по аналогии с линейной регрессией):\n",
        "\n",
        "$$\n",
        "y_i = \\theta_0 + \\theta_1 SW_{i} + \\theta_2 SL_{i}\n",
        "$$\n",
        "\n",
        "Предположим, что у нас есть наблюдение с признаками $SW = 3.5$ и $SL = 5$. И кто-то сказал нам, что $\\theta_0 = 1$, $\\theta_1 = 2$ и $\\theta_2 = 4$, тогда:\n",
        "\n",
        "$$\n",
        "y_i = 1 + 2 * 3.5 + 4 * 5 = 28\n",
        "$$\n",
        "\n",
        "Во-первых, как мы должны интерпретировать значене $28$? Во-вторых, модель в таком виде подходит для прогнозирования непрерывных значений, которые ограничены бесконечностью:\n",
        "\n",
        "$$\n",
        "-\\infty \\le \\theta^{T}x \\le +\\infty\n",
        "$$\n",
        "В действительности мы хотим построить модель, которая позволит нам прогнозировать бинарный отклик, а точнее вероятность отнесения наблюдения к одному из классов, то есть:\n",
        "$$\n",
        "P(y=1 \\mid x) = f(\\theta^{T}x)\n",
        "$$\n",
        "\n",
        "$$\n",
        "P(y=0 \\mid x) = 1 - f(\\theta^{T}x)\n",
        "$$\n",
        "\n",
        "Где:\n",
        "\n",
        "$$\n",
        "0 \\le f(\\theta^{T}x) \\le 1\n",
        "$$\n",
        "\n",
        "\n",
        "Такой функцией $f$ может быть **логистическая функция**:\n",
        "\n",
        "$$\n",
        "P(y = 1 \\mid x) = \\frac{e^{\\theta^{T}x}}{1 + e^{\\theta^{T}x}} = \\frac{1}{1 + e^{-\\theta^{T}x}}\n",
        "$$"
      ]
    },
    {
      "cell_type": "code",
      "metadata": {
        "id": "VxDVo58qUpuW",
        "colab": {
          "base_uri": "https://localhost:8080/",
          "height": 265
        },
        "outputId": "db33c35c-8812-4d70-c8a2-a46034922de0"
      },
      "source": [
        "x_values = np.linspace(-5, 5, 100)\n",
        "y_values = [1 / (1 + math.e**(-x)) for x in x_values]\n",
        "plt.plot(x_values, y_values)\n",
        "plt.axhline(.5)\n",
        "plt.axvline(0)\n",
        "sns.despine()"
      ],
      "execution_count": 3,
      "outputs": [
        {
          "output_type": "display_data",
          "data": {
            "image/png": "[encoded data removed]",
            "text/plain": [
              "<Figure size 432x288 with 1 Axes>"
            ]
          },
          "metadata": {
            "tags": [],
            "needs_background": "light"
          }
        }
      ]
    },
    {
      "cell_type": "markdown",
      "metadata": {
        "id": "em4XCtQYUuV-"
      },
      "source": [
        "Отметим, что значение вероятности, описываемое логистической функцией, ограничено диапазоном значений от 0 до 1, а также то, что большие изменения вероятности требуют больших изменений в $x$, чем для значений вероятности близких к 0.5.\n",
        "\n",
        "Возвращаясь к нашему примеру:\n",
        "\n",
        "$$\n",
        "P(y = 1 \\mid x) = \\frac{1}{1 + e^{-(\\theta_0 + \\theta_1 SW_{i} + \\theta_2 SL_{i})}} = \\frac{1}{1 + e^{-28}} = 0.99\n",
        "$$\n",
        "\n",
        "\n",
        "Таким образом, с вероятностью 0.99 мы можем отнести наше наблюдение к классу `Setosa`.\n",
        "\n",
        "Как мы будем находить параметры $\\theta_i$? Для начала нам необходимо определиться с видом целевой функции. Так как наша модель прогнозирует вероятности, то мы можем использовать принцип максимального правдоподобия.\n",
        "\n",
        "Для краткости, можем записать функцию распределения $y$ при заданном $x$ в следующем виде:\n",
        "\n",
        "$$\n",
        "P(y = y_i \\mid x) = P(y_i = 1 \\mid x_i)^{y_{i}} (1 - P(y_i = 1 \\mid x_i))^{1 - y_{i}}\n",
        "$$\n",
        "\n",
        "\n",
        "Фактически, это есть распределение Бернулли.\n",
        "\n",
        "В зависимости от значения $y$ одна из двух частей уравнения будет равна 1. \n",
        "\n",
        "Для $y=1$:\n",
        "\n",
        "$$\n",
        "P(y = 1 \\mid x) = P(y_i = 1 \\mid x_i)^1 (1 - P(y_i = 1 \\mid x_i))^{1 - 1} = P(y_i = 1 \\mid x_i)\n",
        "$$\n",
        "\n",
        "\n",
        "Для $y=0$:\n",
        "\n",
        "$$\n",
        "P(y = 0 \\mid x) = P(y_i = 1 \\mid x_i)^0 (1 - P(y_i = 1 \\mid x_i))^{1 - 0} = 1 - P(y_i = 1 \\mid x_i)\n",
        "$$\n",
        "\n",
        "\n",
        "Правдоподобие для $m$ наблюдений можно записать как:\n",
        "\n",
        "$$\n",
        "L = \\prod_{i=1}^{m}P(y = y_i \\mid x_i) = \\prod_{i=1}^{m}P(y = 1 \\mid x_i)^{y_i}(1 - P(y_i = 1 \\mid x_i))^{1 - y_i}\n",
        "$$\n",
        "\n",
        "$$\n",
        "\\log L = \\sum_{i=1}^{m} y_i \\times \\log(P(y = 1 \\mid x_i)) + (1 - y_i) \\times \\log(1 - P(y_i = 1 \\mid x_i))\n",
        "$$\n",
        "\n",
        "\n",
        "Введем обозначение:\n",
        "\n",
        "$$\n",
        "p_i = P(y = 1 \\mid x_i)\n",
        "$$\n",
        "\n",
        "Тогда функция правдоподобия может быть записана как:\n",
        "\n",
        "$$\n",
        "\\log L = \\sum_{i=1}^{m} y_i \\times \\log(p_i) + (1 - y_i) \\times \\log(1 - p_i))\n",
        "$$\n",
        "\n",
        "\n",
        "Таким образом, мы можем записать нашу целевую функцию:\n",
        "\n",
        "$$\n",
        "J(\\theta) = -\\frac{1}{m}\\sum_{i=1}^{m} y_i \\times \\log(p_i) + (1 - y_i) \\times \\log(1 - p_i))\n",
        "$$\n",
        "\n",
        "\n",
        "Чтобы найти параметры $\\theta$ мы можем воспользоваться методом градиентного спуска. Вспомним правило обновления весов:\n",
        "\n",
        "$$\n",
        "\\theta := \\theta - \\alpha \\frac{\\partial}{\\partial \\theta}J(\\theta)\n",
        "$$\n",
        "\n",
        "\n",
        "Где:\n",
        "$$\n",
        "\\frac{\\partial}{\\partial \\theta}J(\\theta)\n",
        "$$\n",
        "\n",
        "Вывод производных см. [тут](http://ronny.rest/blog/post_2017_08_12_logistic_regression_derivative/).\n",
        "</div>\n",
        "$$\n",
        "\\frac{\\partial}{\\partial \\theta}J(\\theta) = \\frac{1}{m}\\sum_{i=1}^{m}(h_{\\theta}(x^{(i)}) - y^{(i)})x^{(i)}\n",
        "$$\n",
        "\n",
        "\n",
        "$$\n",
        "h_{\\theta}(x) = f(\\theta^Tx) = \\frac{1}{1 + e^{-\\theta^{T}x}}\n",
        "$$\n",
        "\n",
        "$$\n",
        "f(z) = \\frac{1}{1 + e ^{-z}}\n",
        "$$\n",
        "\n",
        "\n",
        "В результате подстановки получим следующее правило для пересчета параметров $\\theta$:\n",
        "\n",
        "$$\n",
        "\\theta := \\theta - \\alpha\\frac{1}{m}\\sum_{i=1}^{m}(h_{\\theta}(x_i)-y_i)x_i\n",
        "$$"
      ]
    },
    {
      "cell_type": "markdown",
      "metadata": {
        "id": "Z3AvUgwQVc6U"
      },
      "source": [
        "### *Пример с использованием библиотеки sklearn*\n"
      ]
    },
    {
      "cell_type": "code",
      "metadata": {
        "id": "M9jEpOEuVgH_",
        "colab": {
          "base_uri": "https://localhost:8080/"
        },
        "outputId": "f14c4a2f-4179-4b58-a966-fd8102178db9"
      },
      "source": [
        "from sklearn import linear_model\n",
        "from sklearn.model_selection import train_test_split\n",
        "X_train, X_test, y_train, y_test = train_test_split(X, y, test_size=0.3, random_state=17)\n",
        "\n",
        "model = linear_model.LogisticRegression()\n",
        "model.fit(X_train, y_train)\n",
        "y_pred = model.predict(X_test)\n",
        "sum(y_test == y_pred) # 30"
      ],
      "execution_count": 4,
      "outputs": [
        {
          "output_type": "execute_result",
          "data": {
            "text/plain": [
              "30"
            ]
          },
          "metadata": {
            "tags": []
          },
          "execution_count": 4
        }
      ]
    },
    {
      "cell_type": "code",
      "metadata": {
        "id": "htBAj6NkViqT",
        "colab": {
          "base_uri": "https://localhost:8080/"
        },
        "outputId": "4370a63e-2908-47fa-d5e8-610a16631931"
      },
      "source": [
        "from sklearn.metrics import accuracy_score\n",
        "accuracy_score(y_test, y_pred) # 1"
      ],
      "execution_count": 5,
      "outputs": [
        {
          "output_type": "execute_result",
          "data": {
            "text/plain": [
              "1.0"
            ]
          },
          "metadata": {
            "tags": []
          },
          "execution_count": 5
        }
      ]
    },
    {
      "cell_type": "markdown",
      "metadata": {
        "id": "c-iQa6UGVksz"
      },
      "source": [
        "Давайте рассмотрим другой пример, для которого сгенеируем набор данных из 10 тысяч наблюдений:"
      ]
    },
    {
      "cell_type": "code",
      "metadata": {
        "id": "N15wVaSdVmVx"
      },
      "source": [
        "from sklearn.datasets import make_classification\n",
        "\n",
        "X, y = make_classification(n_samples=10000, n_features=10, n_classes=2, n_informative=5, random_state=17)\n",
        "X_train, X_test, y_train, y_test = train_test_split(X, y, test_size=0.3, random_state=17)\n",
        "\n",
        "model = linear_model.LogisticRegression()\n",
        "model.fit(X_train, y_train)\n",
        "y_pred = model.predict(X_test)"
      ],
      "execution_count": 6,
      "outputs": []
    },
    {
      "cell_type": "code",
      "metadata": {
        "id": "1VKdLKGWVn9u",
        "colab": {
          "base_uri": "https://localhost:8080/"
        },
        "outputId": "bc2cf6b1-4b9d-4fb1-f844-bf3c511c367c"
      },
      "source": [
        "sum(y_test == y_pred) # 2306"
      ],
      "execution_count": 7,
      "outputs": [
        {
          "output_type": "execute_result",
          "data": {
            "text/plain": [
              "2306"
            ]
          },
          "metadata": {
            "tags": []
          },
          "execution_count": 7
        }
      ]
    },
    {
      "cell_type": "code",
      "metadata": {
        "id": "t2-Z6C9yVubs",
        "colab": {
          "base_uri": "https://localhost:8080/"
        },
        "outputId": "e7a7796d-3cde-41a0-b3ad-969745d41c11"
      },
      "source": [
        "accuracy_score(y_test, y_pred) # 0.76866666666666672"
      ],
      "execution_count": 8,
      "outputs": [
        {
          "output_type": "execute_result",
          "data": {
            "text/plain": [
              "0.7686666666666667"
            ]
          },
          "metadata": {
            "tags": []
          },
          "execution_count": 8
        }
      ]
    },
    {
      "cell_type": "markdown",
      "metadata": {
        "id": "HACf1T0mVy3J"
      },
      "source": [
        "Значение $0.7687$ ничего не говорит нам об ошибках [первого и второго рода](https://ru.wikipedia.org/wiki/%D0%9E%D1%88%D0%B8%D0%B1%D0%BA%D0%B8_%D0%BF%D0%B5%D1%80%D0%B2%D0%BE%D0%B3%D0%BE_%D0%B8_%D0%B2%D1%82%D0%BE%D1%80%D0%BE%D0%B3%D0%BE_%D1%80%D0%BE%D0%B4%D0%B0). Мы можем построить матрицу ошибок $C$, чтобы получить более полное представление."
      ]
    },
    {
      "cell_type": "code",
      "metadata": {
        "id": "42bYnlrbVzof",
        "colab": {
          "base_uri": "https://localhost:8080/"
        },
        "outputId": "299929f0-9660-4415-d862-87c144753988"
      },
      "source": [
        "from sklearn.metrics import confusion_matrix\n",
        "confusion_matrix(y_test, y_pred) # array([[1129,  363], [ 331, 1177]])"
      ],
      "execution_count": 9,
      "outputs": [
        {
          "output_type": "execute_result",
          "data": {
            "text/plain": [
              "array([[1129,  363],\n",
              "       [ 331, 1177]])"
            ]
          },
          "metadata": {
            "tags": []
          },
          "execution_count": 9
        }
      ]
    },
    {
      "cell_type": "markdown",
      "metadata": {
        "id": "t87P9JFzV8Tc"
      },
      "source": [
        "где:\n",
        "\n",
        "- $C_{0,0} = 1129$ – True Negatives (TN), истинное значение 0, предсказанное 0\n",
        "- $C_{1,0} = 331$ – False Negatives (FN), истинное значение 1, предсказанное 0\n",
        "- $C_{0,1} = 363$ – False Positives (FP), истинное значение 0, предсказанное 1\n",
        "- $C_{1,1} = 1177$ – True Positives (TP), истинное значение 1, предсказанное 1\n",
        "\n",
        "И наконец мы можем построить ROC-кривую (https://dyakonov.org/2017/07/28/auc-roc-%D0%BF%D0%BB%D0%BE%D1%89%D0%B0%D0%B4%D1%8C-%D0%BF%D0%BE%D0%B4-%D0%BA%D1%80%D0%B8%D0%B2%D0%BE%D0%B9-%D0%BE%D1%88%D0%B8%D0%B1%D0%BE%D0%BA/) для визуальной оценки точности работы классификатора:"
      ]
    },
    {
      "cell_type": "code",
      "metadata": {
        "id": "rjPoHg7rWBbB",
        "colab": {
          "base_uri": "https://localhost:8080/",
          "height": 295
        },
        "outputId": "7720bce3-8a84-41a2-97c3-ec4adb8c0388"
      },
      "source": [
        "from sklearn.metrics import roc_curve, auc\n",
        "\n",
        "def plot_roc_curve(y_pred, y_test):\n",
        "    fpr, tpr, _ = roc_curve(y_test, y_pred)\n",
        "    roc_auc = auc(fpr, tpr)\n",
        "    plt.figure()\n",
        "    plt.plot(fpr, tpr, color='darkorange', lw=2, label='ROC curve (area = %0.2f)' % roc_auc)\n",
        "    plt.plot([0, 1], [0, 1], color='navy', lw=2, linestyle='--')\n",
        "    plt.xlim([0.0, 1.0])\n",
        "    plt.ylim([0.0, 1.05])\n",
        "    plt.xlabel('False Positive Rate')\n",
        "    plt.ylabel('True Positive Rate')\n",
        "    plt.title('ROC Curve')\n",
        "    plt.legend(loc=\"lower right\")\n",
        "    plt.show()\n",
        "\n",
        "y_pred = model.predict_proba(X_test)[:,1]\n",
        "plot_roc_curve(y_pred, y_test)"
      ],
      "execution_count": 10,
      "outputs": [
        {
          "output_type": "display_data",
          "data": {
            "image/png": "[encoded data removed]",
            "text/plain": [
              "<Figure size 432x288 with 1 Axes>"
            ]
          },
          "metadata": {
            "tags": [],
            "needs_background": "light"
          }
        }
      ]
    },
    {
      "cell_type": "markdown",
      "metadata": {
        "id": "xVu6O8BDWCJS"
      },
      "source": [
        "### *Многоклассовая классификация*"
      ]
    },
    {
      "cell_type": "code",
      "metadata": {
        "id": "10JJVPZSWDpI",
        "colab": {
          "base_uri": "https://localhost:8080/"
        },
        "outputId": "65e8b32a-2850-4a22-c7af-5715dea9d1c2"
      },
      "source": [
        "data = datasets.load_iris()\n",
        "X = data.data\n",
        "y = data.target\n",
        "\n",
        "X_train, X_test, y_train, y_test = train_test_split(X, y, test_size=0.3, random_state=17)\n",
        "\n",
        "model = linear_model.LogisticRegression(multi_class='ovr')\n",
        "model.fit(X_train, y_train)\n",
        "\n",
        "y_pred = model.predict(X_test)\n",
        "print(sum(y_test == y_pred)) # 42\n",
        "print(accuracy_score(y_test, y_pred)) #0.93333333333333335\n",
        "print(confusion_matrix(y_test, y_pred)) # array([[12,  0,  0], [ 0, 16,  3], [ 0,  0, 14]])"
      ],
      "execution_count": 11,
      "outputs": [
        {
          "output_type": "stream",
          "text": [
            "44\n",
            "0.9777777777777777\n",
            "[[12  0  0]\n",
            " [ 0 18  1]\n",
            " [ 0  0 14]]\n"
          ],
          "name": "stdout"
        }
      ]
    },
    {
      "cell_type": "code",
      "metadata": {
        "id": "Y37AQv0rWWhZ"
      },
      "source": [
        "def plot_roc_curve(y_predict_proba, y_test, n_classes=3):\n",
        "    # Compute ROC curve and ROC AUC for each class\n",
        "    n_classes = 3\n",
        "    fpr = {}\n",
        "    tpr = {}\n",
        "    roc_auc = {}\n",
        "    all_y_test_i = np.array([])\n",
        "    all_y_predict_proba = np.array([])\n",
        "\n",
        "    for i in range(n_classes):\n",
        "        y_test_i = [1 if yi == i else 0 for yi in y_test]\n",
        "        all_y_test_i = np.concatenate([all_y_test_i, y_test_i])\n",
        "        all_y_predict_proba = np.concatenate([all_y_predict_proba, y_predict_proba[:, i]])\n",
        "        fpr[i], tpr[i], _ = roc_curve(y_test_i, y_predict_proba[:, i])\n",
        "        roc_auc[i] = auc(fpr[i], tpr[i])\n",
        "    \n",
        "    # Compute micro-average ROC curve and ROC area\n",
        "    fpr[\"average\"], tpr[\"average\"], _ = roc_curve(all_y_test_i, all_y_predict_proba)\n",
        "    roc_auc[\"average\"] = auc(fpr[\"average\"], tpr[\"average\"])\n",
        "\n",
        "    # Plot average ROC Curve\n",
        "    plt.figure()\n",
        "    plt.plot(fpr[\"average\"], tpr[\"average\"],\n",
        "        label='Average ROC curve (area = {0:0.2f})'.format(roc_auc[\"average\"]),\n",
        "        color='deeppink', linestyle=':', linewidth=4)\n",
        "\n",
        "    # Plot each individual ROC curve\n",
        "    for i in range(n_classes):\n",
        "        plt.plot(fpr[i], tpr[i], lw=2, label='ROC curve of class {0} (area = {1:0.2f})'.format(i, roc_auc[i]))\n",
        "\n",
        "    plt.plot([0, 1], [0, 1], 'k--', lw=2)\n",
        "    plt.xlim([0.0, 1.0])\n",
        "    plt.ylim([0.0, 1.05])\n",
        "    plt.xlabel('False Positive Rate')\n",
        "    plt.ylabel('True Positive Rate')\n",
        "    plt.title('Some extension of Receiver operating characteristic to multi-class')\n",
        "    plt.legend(loc=\"lower right\")\n",
        "    plt.show()"
      ],
      "execution_count": 12,
      "outputs": []
    },
    {
      "cell_type": "markdown",
      "metadata": {
        "id": "saZw3aghWXL6"
      },
      "source": [
        "### *Задание*"
      ]
    },
    {
      "cell_type": "code",
      "metadata": {
        "id": "GWFURmz6WYZ_"
      },
      "source": [
        "class LogisticRegression:\n",
        "      def __init__(self, alpha=0.01, max_iter=1000):\n",
        "          self.alpha = alpha\n",
        "          self.max_iter = max_iter\n",
        "\n",
        "      def sigmoid(self, z):\n",
        "          return 1 / (1 + np.exp(-z))\n",
        "\n",
        "      def fit(self, X_train, y_train):\n",
        "          self.theta = np.zeros(X_train.shape[1]+1) # Initialize fitting parameters\n",
        "          X_train = np.c_[np.ones((len(X_train), 1)), X_train] # Add a column of ones to x\n",
        "          self.theta = self.gradientDescent(X_train, y_train) # Find final parameters\n",
        "          print(self.costFunction(X_train, y_train), self.theta) # Compute and display final cost\n",
        "          self.intercept_ = self.theta[0]\n",
        "          self.coef_ = self.theta[1:]\n",
        "\n",
        "      def predict(self, X_test):\n",
        "          X_test = np.c_[np.ones((len(X_test), 1)), X_test]\n",
        "\n",
        "          p = (self.sigmoid(X_test @ self.theta) >= 0.5).astype(int)\n",
        "\n",
        "          return p\n",
        "\n",
        "      def predict_proba(self, X_test):\n",
        "          X_test = np.c_[np.ones((len(X_test), 1)), X_test]\n",
        "\n",
        "          p = self.sigmoid(X_test @ self.theta)\n",
        "\n",
        "          return np.array([1-p, p]).T\n",
        "\n",
        "      def costFunction(self, X, y):\n",
        "          y = np.array(y)\n",
        "          m = len(y)\n",
        "          \n",
        "          J = (y @ np.log(self.sigmoid(X @ self.theta)) + (1 - y) @ np.log(1 - self.sigmoid(X @ self.theta))) / -m\n",
        "\n",
        "          return J\n",
        "\n",
        "      def gradientDescent(self, X, y):\n",
        "          y = np.array(y)\n",
        "          m = len(y)\n",
        "\n",
        "          for _ in np.arange(self.max_iter): # run gradient descent\n",
        "              self.theta -= self.alpha / m * ((self.sigmoid(X @ self.theta) - y) @ X)\n",
        "\n",
        "          return self.theta"
      ],
      "execution_count": 13,
      "outputs": []
    },
    {
      "cell_type": "code",
      "metadata": {
        "id": "ijYvUtuMgx0o"
      },
      "source": [
        "X, y = make_classification(n_samples=10000, n_features=10, n_classes=2, n_informative=5, random_state=17)\n",
        "X_train, X_test, y_train, y_test = train_test_split(X, y, test_size=0.3, random_state=17)"
      ],
      "execution_count": 14,
      "outputs": []
    },
    {
      "cell_type": "code",
      "metadata": {
        "id": "TWq9nth1hZ5W",
        "colab": {
          "base_uri": "https://localhost:8080/"
        },
        "outputId": "056a68d8-eae3-40e2-97ae-2e2cc60fb755"
      },
      "source": [
        "model = LogisticRegression(alpha=0.001, max_iter=10000)\n",
        "model.fit(X_train, y_train)\n",
        "y_pred = model.predict(X_test)"
      ],
      "execution_count": 15,
      "outputs": [
        {
          "output_type": "stream",
          "text": [
            "0.48099596861436783 [-0.38538227  0.34908351 -0.40409234  0.04044482  0.00314227  0.34772961\n",
            "  0.20429393 -0.0728811   0.35366018 -0.00225836  0.43792691]\n"
          ],
          "name": "stdout"
        }
      ]
    },
    {
      "cell_type": "code",
      "metadata": {
        "colab": {
          "base_uri": "https://localhost:8080/"
        },
        "id": "vi6Y_esypw9P",
        "outputId": "982963ca-af61-498f-c3d8-e925ec02faac"
      },
      "source": [
        "sum(y_test == y_pred) # sklearn reference = 2306"
      ],
      "execution_count": 16,
      "outputs": [
        {
          "output_type": "execute_result",
          "data": {
            "text/plain": [
              "2344"
            ]
          },
          "metadata": {
            "tags": []
          },
          "execution_count": 16
        }
      ]
    },
    {
      "cell_type": "code",
      "metadata": {
        "colab": {
          "base_uri": "https://localhost:8080/"
        },
        "id": "aKuEsHr2p4Jh",
        "outputId": "b1469522-7e5e-4a22-f1cf-b6e387b34961"
      },
      "source": [
        "accuracy_score(y_test, y_pred) # sklearn reference = 0.76866666666666672"
      ],
      "execution_count": 17,
      "outputs": [
        {
          "output_type": "execute_result",
          "data": {
            "text/plain": [
              "0.7813333333333333"
            ]
          },
          "metadata": {
            "tags": []
          },
          "execution_count": 17
        }
      ]
    },
    {
      "cell_type": "code",
      "metadata": {
        "colab": {
          "base_uri": "https://localhost:8080/"
        },
        "id": "AOcWK13-qLa7",
        "outputId": "5284a1c3-5380-41fb-f06f-180157612032"
      },
      "source": [
        "confusion_matrix(y_test, y_pred) # sklearn reference = array([[1129,  363], [ 331, 1177]])"
      ],
      "execution_count": 18,
      "outputs": [
        {
          "output_type": "execute_result",
          "data": {
            "text/plain": [
              "array([[1092,  400],\n",
              "       [ 256, 1252]])"
            ]
          },
          "metadata": {
            "tags": []
          },
          "execution_count": 18
        }
      ]
    },
    {
      "cell_type": "code",
      "metadata": {
        "colab": {
          "base_uri": "https://localhost:8080/",
          "height": 295
        },
        "id": "zYqwfuNW8-Uj",
        "outputId": "1bba385d-1546-4411-a680-1d6ab2cfbe86"
      },
      "source": [
        "def plot_roc_curve(y_pred, y_test):\n",
        "    fpr, tpr, _ = roc_curve(y_test, y_pred)\n",
        "    roc_auc = auc(fpr, tpr)\n",
        "    plt.figure()\n",
        "    plt.plot(fpr, tpr, color='darkorange', lw=2, label='ROC curve (area = %0.2f)' % roc_auc)\n",
        "    plt.plot([0, 1], [0, 1], color='navy', lw=2, linestyle='--')\n",
        "    plt.xlim([0.0, 1.0])\n",
        "    plt.ylim([0.0, 1.05])\n",
        "    plt.xlabel('False Positive Rate')\n",
        "    plt.ylabel('True Positive Rate')\n",
        "    plt.title('ROC Curve')\n",
        "    plt.legend(loc=\"lower right\")\n",
        "    plt.show()\n",
        "\n",
        "y_pred = model.predict_proba(X_test)[:,1]\n",
        "plot_roc_curve(y_pred, y_test)"
      ],
      "execution_count": 19,
      "outputs": [
        {
          "output_type": "display_data",
          "data": {
            "image/png": "[encoded data removed]",
            "text/plain": [
              "<Figure size 432x288 with 1 Axes>"
            ]
          },
          "metadata": {
            "tags": [],
            "needs_background": "light"
          }
        }
      ]
    },
    {
      "cell_type": "markdown",
      "metadata": {
        "id": "jUuCF9fQFmnH"
      },
      "source": [
        "Q.E.D."
      ]
    }
  ]
}