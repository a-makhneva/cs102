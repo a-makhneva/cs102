{
  "nbformat": 4,
  "nbformat_minor": 5,
  "metadata": {
    "kernelspec": {
      "display_name": "'Python Interactive'",
      "language": "python",
      "name": "0f76b137-6db6-473c-ac2a-022c61fac5f5"
    },
    "language_info": {
      "codemirror_mode": {
        "name": "ipython",
        "version": 3
      },
      "file_extension": ".py",
      "mimetype": "text/x-python",
      "name": "python",
      "nbconvert_exporter": "python",
      "pygments_lexer": "ipython3",
      "version": "3.7.3"
    },
    "colab": {
      "name": "exam_summer",
      "provenance": [],
      "collapsed_sections": []
    }
  },
  "cells": [
    {
      "cell_type": "code",
      "metadata": {
        "id": "architectural-petroleum"
      },
      "source": [
        "# 0. Найдите вашего любимого актера, режиссера, фильм и жанр.\n",
        "# Том Кукуруз - Tom Cruise, Кристофер Нолан - Christopher Nolan,\n",
        "# Парк Юрского Периода - Jurrasic Park, комедии - Comedy\n",
        "# В вопросах у которых стоит значок ❤︎ нужно дополнительно использовать вашего любимого актера, фильм и т.п."
      ],
      "id": "architectural-petroleum",
      "execution_count": 277,
      "outputs": []
    },
    {
      "cell_type": "code",
      "metadata": {
        "id": "LmUkvQZCOXGe"
      },
      "source": [
        "# ❤︎ Фильм - Paddington\n",
        "# ❤︎ Актер - Maggie Smith\n",
        "# ❤︎ Режиссер - Guy Ritchie\n",
        "# ❤︎ Жанр - Comedy"
      ],
      "id": "LmUkvQZCOXGe",
      "execution_count": 278,
      "outputs": []
    },
    {
      "cell_type": "code",
      "metadata": {
        "colab": {
          "base_uri": "https://localhost:8080/",
          "height": 615
        },
        "id": "FIzBExZXScHw",
        "outputId": "e1eb9b7e-4e5d-4c3d-e8a9-60f8bc1b86e9"
      },
      "source": [
        "import pandas as pd\n",
        "import matplotlib.pyplot as plt\n",
        "import numpy as np\n",
        "data = pd.read_csv(\"tmdb_movies.csv\")\n",
        "data.head()"
      ],
      "id": "FIzBExZXScHw",
      "execution_count": 279,
      "outputs": [
        {
          "output_type": "execute_result",
          "data": {
            "text/html": [
              "<div>\n",
              "<style scoped>\n",
              "    .dataframe tbody tr th:only-of-type {\n",
              "        vertical-align: middle;\n",
              "    }\n",
              "\n",
              "    .dataframe tbody tr th {\n",
              "        vertical-align: top;\n",
              "    }\n",
              "\n",
              "    .dataframe thead th {\n",
              "        text-align: right;\n",
              "    }\n",
              "</style>\n",
              "<table border=\"1\" class=\"dataframe\">\n",
              "  <thead>\n",
              "    <tr style=\"text-align: right;\">\n",
              "      <th></th>\n",
              "      <th>id</th>\n",
              "      <th>imdb_id</th>\n",
              "      <th>popularity</th>\n",
              "      <th>budget</th>\n",
              "      <th>revenue</th>\n",
              "      <th>original_title</th>\n",
              "      <th>cast</th>\n",
              "      <th>homepage</th>\n",
              "      <th>director</th>\n",
              "      <th>tagline</th>\n",
              "      <th>keywords</th>\n",
              "      <th>overview</th>\n",
              "      <th>runtime</th>\n",
              "      <th>genres</th>\n",
              "      <th>production_companies</th>\n",
              "      <th>release_date</th>\n",
              "      <th>vote_count</th>\n",
              "      <th>vote_average</th>\n",
              "      <th>release_year</th>\n",
              "      <th>budget_adj</th>\n",
              "      <th>revenue_adj</th>\n",
              "    </tr>\n",
              "  </thead>\n",
              "  <tbody>\n",
              "    <tr>\n",
              "      <th>0</th>\n",
              "      <td>135397</td>\n",
              "      <td>tt0369610</td>\n",
              "      <td>32.985763</td>\n",
              "      <td>150000000</td>\n",
              "      <td>1513528810</td>\n",
              "      <td>Jurassic World</td>\n",
              "      <td>Chris Pratt|Bryce Dallas Howard|Irrfan Khan|Vi...</td>\n",
              "      <td>http://www.jurassicworld.com/</td>\n",
              "      <td>Colin Trevorrow</td>\n",
              "      <td>The park is open.</td>\n",
              "      <td>monster|dna|tyrannosaurus rex|velociraptor|island</td>\n",
              "      <td>Twenty-two years after the events of Jurassic ...</td>\n",
              "      <td>124</td>\n",
              "      <td>Action|Adventure|Science Fiction|Thriller</td>\n",
              "      <td>Universal Studios|Amblin Entertainment|Legenda...</td>\n",
              "      <td>6/9/15</td>\n",
              "      <td>5562</td>\n",
              "      <td>6.5</td>\n",
              "      <td>2015</td>\n",
              "      <td>1.379999e+08</td>\n",
              "      <td>1.392446e+09</td>\n",
              "    </tr>\n",
              "    <tr>\n",
              "      <th>1</th>\n",
              "      <td>76341</td>\n",
              "      <td>tt1392190</td>\n",
              "      <td>28.419936</td>\n",
              "      <td>150000000</td>\n",
              "      <td>378436354</td>\n",
              "      <td>Mad Max: Fury Road</td>\n",
              "      <td>Tom Hardy|Charlize Theron|Hugh Keays-Byrne|Nic...</td>\n",
              "      <td>http://www.madmaxmovie.com/</td>\n",
              "      <td>George Miller</td>\n",
              "      <td>What a Lovely Day.</td>\n",
              "      <td>future|chase|post-apocalyptic|dystopia|australia</td>\n",
              "      <td>An apocalyptic story set in the furthest reach...</td>\n",
              "      <td>120</td>\n",
              "      <td>Action|Adventure|Science Fiction|Thriller</td>\n",
              "      <td>Village Roadshow Pictures|Kennedy Miller Produ...</td>\n",
              "      <td>5/13/15</td>\n",
              "      <td>6185</td>\n",
              "      <td>7.1</td>\n",
              "      <td>2015</td>\n",
              "      <td>1.379999e+08</td>\n",
              "      <td>3.481613e+08</td>\n",
              "    </tr>\n",
              "    <tr>\n",
              "      <th>2</th>\n",
              "      <td>262500</td>\n",
              "      <td>tt2908446</td>\n",
              "      <td>13.112507</td>\n",
              "      <td>110000000</td>\n",
              "      <td>295238201</td>\n",
              "      <td>Insurgent</td>\n",
              "      <td>Shailene Woodley|Theo James|Kate Winslet|Ansel...</td>\n",
              "      <td>http://www.thedivergentseries.movie/#insurgent</td>\n",
              "      <td>Robert Schwentke</td>\n",
              "      <td>One Choice Can Destroy You</td>\n",
              "      <td>based on novel|revolution|dystopia|sequel|dyst...</td>\n",
              "      <td>Beatrice Prior must confront her inner demons ...</td>\n",
              "      <td>119</td>\n",
              "      <td>Adventure|Science Fiction|Thriller</td>\n",
              "      <td>Summit Entertainment|Mandeville Films|Red Wago...</td>\n",
              "      <td>3/18/15</td>\n",
              "      <td>2480</td>\n",
              "      <td>6.3</td>\n",
              "      <td>2015</td>\n",
              "      <td>1.012000e+08</td>\n",
              "      <td>2.716190e+08</td>\n",
              "    </tr>\n",
              "    <tr>\n",
              "      <th>3</th>\n",
              "      <td>140607</td>\n",
              "      <td>tt2488496</td>\n",
              "      <td>11.173104</td>\n",
              "      <td>200000000</td>\n",
              "      <td>2068178225</td>\n",
              "      <td>Star Wars: The Force Awakens</td>\n",
              "      <td>Harrison Ford|Mark Hamill|Carrie Fisher|Adam D...</td>\n",
              "      <td>http://www.starwars.com/films/star-wars-episod...</td>\n",
              "      <td>J.J. Abrams</td>\n",
              "      <td>Every generation has a story.</td>\n",
              "      <td>android|spaceship|jedi|space opera|3d</td>\n",
              "      <td>Thirty years after defeating the Galactic Empi...</td>\n",
              "      <td>136</td>\n",
              "      <td>Action|Adventure|Science Fiction|Fantasy</td>\n",
              "      <td>Lucasfilm|Truenorth Productions|Bad Robot</td>\n",
              "      <td>12/15/15</td>\n",
              "      <td>5292</td>\n",
              "      <td>7.5</td>\n",
              "      <td>2015</td>\n",
              "      <td>1.839999e+08</td>\n",
              "      <td>1.902723e+09</td>\n",
              "    </tr>\n",
              "    <tr>\n",
              "      <th>4</th>\n",
              "      <td>168259</td>\n",
              "      <td>tt2820852</td>\n",
              "      <td>9.335014</td>\n",
              "      <td>190000000</td>\n",
              "      <td>1506249360</td>\n",
              "      <td>Furious 7</td>\n",
              "      <td>Vin Diesel|Paul Walker|Jason Statham|Michelle ...</td>\n",
              "      <td>http://www.furious7.com/</td>\n",
              "      <td>James Wan</td>\n",
              "      <td>Vengeance Hits Home</td>\n",
              "      <td>car race|speed|revenge|suspense|car</td>\n",
              "      <td>Deckard Shaw seeks revenge against Dominic Tor...</td>\n",
              "      <td>137</td>\n",
              "      <td>Action|Crime|Thriller</td>\n",
              "      <td>Universal Pictures|Original Film|Media Rights ...</td>\n",
              "      <td>4/1/15</td>\n",
              "      <td>2947</td>\n",
              "      <td>7.3</td>\n",
              "      <td>2015</td>\n",
              "      <td>1.747999e+08</td>\n",
              "      <td>1.385749e+09</td>\n",
              "    </tr>\n",
              "  </tbody>\n",
              "</table>\n",
              "</div>"
            ],
            "text/plain": [
              "       id    imdb_id  popularity  ...  release_year    budget_adj   revenue_adj\n",
              "0  135397  tt0369610   32.985763  ...          2015  1.379999e+08  1.392446e+09\n",
              "1   76341  tt1392190   28.419936  ...          2015  1.379999e+08  3.481613e+08\n",
              "2  262500  tt2908446   13.112507  ...          2015  1.012000e+08  2.716190e+08\n",
              "3  140607  tt2488496   11.173104  ...          2015  1.839999e+08  1.902723e+09\n",
              "4  168259  tt2820852    9.335014  ...          2015  1.747999e+08  1.385749e+09\n",
              "\n",
              "[5 rows x 21 columns]"
            ]
          },
          "metadata": {
            "tags": []
          },
          "execution_count": 279
        }
      ]
    },
    {
      "cell_type": "code",
      "metadata": {
        "colab": {
          "base_uri": "https://localhost:8080/"
        },
        "id": "ftkRShLDWakd",
        "outputId": "7bab8256-5902-4083-c291-26d69129c6d9"
      },
      "source": [
        "print(data.shape)\n",
        "print(data.columns)"
      ],
      "id": "ftkRShLDWakd",
      "execution_count": 280,
      "outputs": [
        {
          "output_type": "stream",
          "text": [
            "(10866, 21)\n",
            "Index(['id', 'imdb_id', 'popularity', 'budget', 'revenue', 'original_title',\n",
            "       'cast', 'homepage', 'director', 'tagline', 'keywords', 'overview',\n",
            "       'runtime', 'genres', 'production_companies', 'release_date',\n",
            "       'vote_count', 'vote_average', 'release_year', 'budget_adj',\n",
            "       'revenue_adj'],\n",
            "      dtype='object')\n"
          ],
          "name": "stdout"
        }
      ]
    },
    {
      "cell_type": "code",
      "metadata": {
        "id": "angry-testament"
      },
      "source": [
        "# 1. Какой фильм имеет больше всего оценок? (❤︎)"
      ],
      "id": "angry-testament",
      "execution_count": 281,
      "outputs": []
    },
    {
      "cell_type": "code",
      "metadata": {
        "colab": {
          "base_uri": "https://localhost:8080/"
        },
        "id": "hxCSJp_IUGdU",
        "outputId": "eb4dc51f-6b94-4544-c208-d322fcb74c7e"
      },
      "source": [
        "ft = data[(data[\"vote_count\"] == data[\"vote_count\"].max())][\"original_title\"]\n",
        "print(\"Больше всего оценок имеет:\", vt)\n",
        "fav1 = data[(data[\"original_title\"] == \"Paddington\")][\"vote_count\"]\n",
        "print(\"У Paddington оценок:\", fav1)"
      ],
      "id": "hxCSJp_IUGdU",
      "execution_count": 282,
      "outputs": [
        {
          "output_type": "stream",
          "text": [
            "Больше всего оценок имеет: 1386    Avatar\n",
            "Name: original_title, dtype: object\n",
            "У Paddington оценок: 678    606\n",
            "Name: vote_count, dtype: int64\n"
          ],
          "name": "stdout"
        }
      ]
    },
    {
      "cell_type": "code",
      "metadata": {
        "id": "comparable-sword"
      },
      "source": [
        "# 2. Какой фильм, а также какого жанра и года выпуска, имеет самые высокие оценки? (❤︎)"
      ],
      "id": "comparable-sword",
      "execution_count": 283,
      "outputs": []
    },
    {
      "cell_type": "code",
      "metadata": {
        "colab": {
          "base_uri": "https://localhost:8080/"
        },
        "id": "BdWZZyrjVgys",
        "outputId": "eef7b0c7-b56d-4e21-c886-0902a00d6fe1"
      },
      "source": [
        "st = data[(data[\"vote_average\"] == data[\"vote_average\"].max())][\"original_title\"]\n",
        "print(st)\n",
        "gst = data[(data[\"vote_average\"] == data[\"vote_average\"].max())][\"genres\"]\n",
        "print(gst)\n",
        "rst = data[(data[\"vote_average\"] == data[\"vote_average\"].max())][\"release_date\"]\n",
        "print(rst)\n"
      ],
      "id": "BdWZZyrjVgys",
      "execution_count": 284,
      "outputs": [
        {
          "output_type": "stream",
          "text": [
            "3894    The Story of Film: An Odyssey\n",
            "Name: original_title, dtype: object\n",
            "3894    Documentary\n",
            "Name: genres, dtype: object\n",
            "3894    9/3/11\n",
            "Name: release_date, dtype: object\n"
          ],
          "name": "stdout"
        }
      ]
    },
    {
      "cell_type": "code",
      "metadata": {
        "id": "closing-undergraduate"
      },
      "source": [
        "# 3. Какой фильм самый короткий/длинный по продолжительности? (❤︎)"
      ],
      "id": "closing-undergraduate",
      "execution_count": 285,
      "outputs": []
    },
    {
      "cell_type": "code",
      "metadata": {
        "colab": {
          "base_uri": "https://localhost:8080/"
        },
        "id": "8mdkDojJY2L-",
        "outputId": "7f6efe3f-1ff3-4e0b-d4b4-11c75b6dd9c3"
      },
      "source": [
        "short = data[(data[\"runtime\"] == data[\"runtime\"].min())][\"original_title\"]\n",
        "print(\"Самые короткие фильмы:\", short)\n",
        "long = data[(data[\"runtime\"] == data[\"runtime\"].max())][\"original_title\"]\n",
        "print(\"Самые длинные фильмы:\", long)\n",
        "fav3 = data[(data[\"original_title\"] == \"Paddington\")][\"runtime\"]\n",
        "print(\"Длительность Paddington:\", fav3)"
      ],
      "id": "8mdkDojJY2L-",
      "execution_count": 286,
      "outputs": [
        {
          "output_type": "stream",
          "text": [
            "Самые короткие фильмы: 92           Mythica: The Necromancer\n",
            "334                           Ronaldo\n",
            "410                    Anarchy Parlor\n",
            "445     The Exorcism of Molly Hartley\n",
            "486                If There Be Thorns\n",
            "595                         Deep Dark\n",
            "616                      The Outfield\n",
            "1241                        Dance-Off\n",
            "1289                        Treehouse\n",
            "1293                         Tim Maia\n",
            "1849                     Spectacular!\n",
            "2315             Listen to Your Heart\n",
            "2370                  Freshman Father\n",
            "3329         Grande, grosso e Verdone\n",
            "3794             Toi, moi, les autres\n",
            "3857                         Cell 213\n",
            "3884                           eCupid\n",
            "4063           Madea's Family Reunion\n",
            "4138               A Time for Dancing\n",
            "4829                             Rags\n",
            "4944              How to Fall in Love\n",
            "5216            Madea's Class Reunion\n",
            "5695                 Skinwalker Ranch\n",
            "5920           The Food Guide to Love\n",
            "5938                      Go Goa Gone\n",
            "5992                 Amiche da morire\n",
            "6040            The Vatican Exorcisms\n",
            "6383         The 12 Dogs of Christmas\n",
            "6552                  Quatre Ã©toiles\n",
            "6934                    Jean-Philippe\n",
            "8874                  Mission Kashmir\n",
            "Name: original_title, dtype: object\n",
            "Самые длинные фильмы: 3894    The Story of Film: An Odyssey\n",
            "Name: original_title, dtype: object\n",
            "Длительность Paddington: 678    95\n",
            "Name: runtime, dtype: int64\n"
          ],
          "name": "stdout"
        }
      ]
    },
    {
      "cell_type": "code",
      "metadata": {
        "id": "czech-association"
      },
      "source": [
        "# 4. Сколько всего киностудий (product_companies)?"
      ],
      "id": "czech-association",
      "execution_count": 287,
      "outputs": []
    },
    {
      "cell_type": "code",
      "metadata": {
        "colab": {
          "base_uri": "https://localhost:8080/"
        },
        "id": "O_CMoSqKdiop",
        "outputId": "44be1a4d-4f7e-4446-f38a-0f7b02943f5c"
      },
      "source": [
        "pc = data[\"production_companies\"].str.split(\"|\", expand=True).dropna().to_numpy().ravel()\n",
        "pc.shape"
      ],
      "id": "O_CMoSqKdiop",
      "execution_count": 288,
      "outputs": [
        {
          "output_type": "execute_result",
          "data": {
            "text/plain": [
              "(5630,)"
            ]
          },
          "metadata": {
            "tags": []
          },
          "execution_count": 288
        }
      ]
    },
    {
      "cell_type": "code",
      "metadata": {
        "id": "ahead-subsection"
      },
      "source": [
        "# 5. Какое количество фильмов сняла каждая из киностудий?"
      ],
      "id": "ahead-subsection",
      "execution_count": 289,
      "outputs": []
    },
    {
      "cell_type": "code",
      "metadata": {
        "colab": {
          "base_uri": "https://localhost:8080/"
        },
        "id": "tgRF_PZ7bajX",
        "outputId": "a3aa56f9-89e0-4355-f495-728d5ce3f12f"
      },
      "source": [
        "pd.Series(pc).value_counts()"
      ],
      "id": "tgRF_PZ7bajX",
      "execution_count": 290,
      "outputs": [
        {
          "output_type": "execute_result",
          "data": {
            "text/plain": [
              "Warner Bros.                              97\n",
              "Universal Pictures                        68\n",
              "Canal+                                    66\n",
              "Twentieth Century Fox Film Corporation    59\n",
              "Paramount Pictures                        56\n",
              "                                          ..\n",
              "Kudos Productions Ltd.                     1\n",
              "New Regency Productions                    1\n",
              "Wildlife Films Peru                        1\n",
              "Les Films Du Fleuve                        1\n",
              "ApolloProMovie                             1\n",
              "Length: 2518, dtype: int64"
            ]
          },
          "metadata": {
            "tags": []
          },
          "execution_count": 290
        }
      ]
    },
    {
      "cell_type": "code",
      "metadata": {
        "id": "intensive-limit"
      },
      "source": [
        "# 6. Сколько фильмов было снято одной киностудией, двумя, тремя и т.д.?"
      ],
      "id": "intensive-limit",
      "execution_count": 291,
      "outputs": []
    },
    {
      "cell_type": "code",
      "metadata": {
        "colab": {
          "base_uri": "https://localhost:8080/"
        },
        "id": "iuo4J1iugl0o",
        "outputId": "490740e6-947c-4cbe-b655-02a4df69c14a"
      },
      "source": [
        "data['production_companies'].str.split('|', expand=True).count(axis=1).value_counts()"
      ],
      "id": "iuo4J1iugl0o",
      "execution_count": 292,
      "outputs": [
        {
          "output_type": "execute_result",
          "data": {
            "text/plain": [
              "1    3440\n",
              "2    2580\n",
              "3    1763\n",
              "5    1126\n",
              "0    1030\n",
              "4     927\n",
              "dtype: int64"
            ]
          },
          "metadata": {
            "tags": []
          },
          "execution_count": 292
        }
      ]
    },
    {
      "cell_type": "code",
      "metadata": {
        "id": "upper-consultation"
      },
      "source": [
        "# 7. Какая средняя оценка у фильмов с вашим любимым актером?"
      ],
      "id": "upper-consultation",
      "execution_count": 293,
      "outputs": []
    },
    {
      "cell_type": "code",
      "metadata": {
        "colab": {
          "base_uri": "https://localhost:8080/"
        },
        "id": "hqSjgyBhj8mS",
        "outputId": "f0cfb56e-cc20-47f1-fcb2-a0bf76c5bd8c"
      },
      "source": [
        "data[data[\"cast\"].astype(str).str.contains(\"Maggie Smith\")][\"vote_average\"].mean()"
      ],
      "id": "hqSjgyBhj8mS",
      "execution_count": 294,
      "outputs": [
        {
          "output_type": "execute_result",
          "data": {
            "text/plain": [
              "6.372727272727275"
            ]
          },
          "metadata": {
            "tags": []
          },
          "execution_count": 294
        }
      ]
    },
    {
      "cell_type": "code",
      "metadata": {
        "id": "fitted-sentence"
      },
      "source": [
        "# 7.1. Найдите актера, который снимался чаще всего и ответьте на вопрос в каких жанрах? (❤︎)"
      ],
      "id": "fitted-sentence",
      "execution_count": 295,
      "outputs": []
    },
    {
      "cell_type": "code",
      "metadata": {
        "colab": {
          "base_uri": "https://localhost:8080/"
        },
        "id": "dVIXGKNglKYk",
        "outputId": "a4652be6-d6e6-470e-ef5a-f9ad3c27a719"
      },
      "source": [
        "act = pd.Series(data[\"cast\"].str.split(\"|\", expand=True).dropna().to_numpy().ravel()).mode()[0]\n",
        "filt = np.nonzero(np.isin(data[\"cast\"].str.split(\"|\", expand=True).to_numpy(), act))[0]\n",
        "gen = data.iloc[filt][\"genres\"]\n",
        "print(\"Актер, который снимался чаще всего:\", act)\n",
        "print(\"Снимался в жанрах:\", gen)"
      ],
      "id": "dVIXGKNglKYk",
      "execution_count": 296,
      "outputs": [
        {
          "output_type": "stream",
          "text": [
            "Актер, который снимался чаще всего: Robert De Niro\n",
            "Снимался в жанрах: 51                               Comedy\n",
            "53                         Comedy|Drama\n",
            "109               Crime|Action|Thriller\n",
            "494                               Drama\n",
            "572                              Comedy\n",
            "                      ...              \n",
            "10268        Comedy|Crime|Romance|Drama\n",
            "10272                             Drama\n",
            "10507    Adventure|Drama|Action|History\n",
            "10596                       Drama|Crime\n",
            "10762                         Drama|War\n",
            "Name: genres, Length: 72, dtype: object\n"
          ],
          "name": "stdout"
        }
      ]
    },
    {
      "cell_type": "code",
      "metadata": {
        "colab": {
          "base_uri": "https://localhost:8080/"
        },
        "id": "cr7Hu14qpjFr",
        "outputId": "b51d609f-3cff-44a9-8443-b7b70bc02f11"
      },
      "source": [
        "act1 = \"Maggie Smith\"\n",
        "filt1 = np.nonzero(np.isin(data[\"cast\"].str.split(\"|\", expand=True).to_numpy(), act1))[0]\n",
        "gen1 = data.iloc[filt1][\"genres\"]\n",
        "\n",
        "print(gen1)"
      ],
      "id": "cr7Hu14qpjFr",
      "execution_count": 297,
      "outputs": [
        {
          "output_type": "stream",
          "text": [
            "141                      Comedy|Drama\n",
            "179                      Drama|Comedy\n",
            "1069             Romance|Comedy|Drama\n",
            "1469          Adventure|Fantasy|Drama\n",
            "2010                   Fantasy|Comedy\n",
            "2614                            Drama\n",
            "2624                 Comedy|Drama|War\n",
            "2690           Drama|Mystery|Thriller\n",
            "3374         Adventure|Family|Fantasy\n",
            "3493                     Drama|Comedy\n",
            "3504                 Animation|Family\n",
            "4500             Drama|Comedy|Romance\n",
            "6284                           Comedy\n",
            "7108                    Drama|Romance\n",
            "7484                    Drama|Romance\n",
            "8262                     Music|Comedy\n",
            "8425         Adventure|Fantasy|Family\n",
            "8554                           Comedy\n",
            "8900     Thriller|Crime|Mystery|Drama\n",
            "10334            Fantasy|Drama|Family\n",
            "10528                   Drama|Romance\n",
            "10750                           Drama\n",
            "Name: genres, dtype: object\n"
          ],
          "name": "stdout"
        }
      ]
    },
    {
      "cell_type": "code",
      "metadata": {
        "id": "elder-premium"
      },
      "source": [
        "# 8. Сборы какой кинокомпании самые высокие за последние 5 лет (с 2010 по 2015)?"
      ],
      "id": "elder-premium",
      "execution_count": 298,
      "outputs": []
    },
    {
      "cell_type": "code",
      "metadata": {
        "id": "color-frontier"
      },
      "source": [
        "# 9. Топ-10 режиссеров и актеров с самым высоким в среднем рейтингом фильмов?"
      ],
      "id": "color-frontier",
      "execution_count": 299,
      "outputs": []
    },
    {
      "cell_type": "code",
      "metadata": {
        "id": "dirty-letters"
      },
      "source": [
        "# 10. Фильмы в каком жанре в среднем имеют самые высокие оценки? (❤︎)"
      ],
      "id": "dirty-letters",
      "execution_count": 300,
      "outputs": []
    },
    {
      "cell_type": "code",
      "metadata": {
        "id": "confused-louisiana"
      },
      "source": [
        "# 11. Топ-10 ключевых слов (keywords)?"
      ],
      "id": "confused-louisiana",
      "execution_count": 301,
      "outputs": []
    },
    {
      "cell_type": "code",
      "metadata": {
        "colab": {
          "base_uri": "https://localhost:8080/"
        },
        "id": "i9Z9tPx-m8wk",
        "outputId": "e4cda259-e511-4e6f-ff6b-0e24d14f600f"
      },
      "source": [
        "kw = data['keywords'].str.split(\"|\", expand=True).dropna().to_numpy().ravel()\n",
        "pd.Series(kw).value_counts()"
      ],
      "id": "i9Z9tPx-m8wk",
      "execution_count": 302,
      "outputs": [
        {
          "output_type": "execute_result",
          "data": {
            "text/plain": [
              "sex                                                          258\n",
              "based on novel                                               243\n",
              "independent film                                             175\n",
              "murder                                                       157\n",
              "nudity                                                       150\n",
              "                                                            ... \n",
              "fairy-tale figure                                              1\n",
              "observer                                                       1\n",
              "bedtime story                                                  1\n",
              "real life mother and daughter playing mother and daughter      1\n",
              "incompetence                                                   1\n",
              "Length: 6411, dtype: int64"
            ]
          },
          "metadata": {
            "tags": []
          },
          "execution_count": 302
        }
      ]
    },
    {
      "cell_type": "code",
      "metadata": {
        "id": "realistic-application"
      },
      "source": [
        "# 12. Растет ли бюджет фильмов с каждым годом? (постройте график)"
      ],
      "id": "realistic-application",
      "execution_count": 303,
      "outputs": []
    },
    {
      "cell_type": "code",
      "metadata": {
        "colab": {
          "base_uri": "https://localhost:8080/",
          "height": 313
        },
        "id": "rocpY1cneg9k",
        "outputId": "5d728760-d789-47ed-d6c8-45f85ad18b93"
      },
      "source": [
        "data.groupby('release_year')['budget'].sum().plot(title=\"total budget by year\")"
      ],
      "id": "rocpY1cneg9k",
      "execution_count": 304,
      "outputs": [
        {
          "output_type": "execute_result",
          "data": {
            "text/plain": [
              "<matplotlib.axes._subplots.AxesSubplot at 0x7fcfc63ab7d0>"
            ]
          },
          "metadata": {
            "tags": []
          },
          "execution_count": 304
        },
        {
          "output_type": "display_data",
          "data": {
            "image/png": "[encoded data removed]",
            "text/plain": [
              "<Figure size 432x288 with 1 Axes>"
            ]
          },
          "metadata": {
            "tags": [],
            "needs_background": "light"
          }
        }
      ]
    },
    {
      "cell_type": "code",
      "metadata": {
        "id": "alien-motion"
      },
      "source": [
        "# 13. Что больше всего влияет на доходы фильмов?"
      ],
      "id": "alien-motion",
      "execution_count": 305,
      "outputs": []
    },
    {
      "cell_type": "code",
      "metadata": {
        "id": "external-calculator"
      },
      "source": [
        "# 14. Топ-5 самых прибильных и убыточных фильмов (по соотношению бюджета к доходам)"
      ],
      "id": "external-calculator",
      "execution_count": 306,
      "outputs": []
    },
    {
      "cell_type": "code",
      "metadata": {
        "id": "alleged-enforcement"
      },
      "source": [
        "# 15. Как изменялось количество снимаемых фильмов в жанре \"Drama\" с течением времени? (Постройте график) ❤︎"
      ],
      "id": "alleged-enforcement",
      "execution_count": 307,
      "outputs": []
    },
    {
      "cell_type": "code",
      "metadata": {
        "colab": {
          "base_uri": "https://localhost:8080/",
          "height": 282
        },
        "id": "NgdSHNRfp4NW",
        "outputId": "74497c12-bb04-43e3-d3dd-7977875ea12f"
      },
      "source": [
        "data[data['genres'].astype(str).str.contains(\"Drama\")]['release_year'].value_counts().plot()"
      ],
      "id": "NgdSHNRfp4NW",
      "execution_count": 308,
      "outputs": [
        {
          "output_type": "execute_result",
          "data": {
            "text/plain": [
              "<matplotlib.axes._subplots.AxesSubplot at 0x7fcfc6445950>"
            ]
          },
          "metadata": {
            "tags": []
          },
          "execution_count": 308
        },
        {
          "output_type": "display_data",
          "data": {
            "image/png": "[encoded data removed]",
            "text/plain": [
              "<Figure size 432x288 with 1 Axes>"
            ]
          },
          "metadata": {
            "tags": [],
            "needs_background": "light"
          }
        }
      ]
    },
    {
      "cell_type": "code",
      "metadata": {
        "colab": {
          "base_uri": "https://localhost:8080/",
          "height": 282
        },
        "id": "4z8d5Dc1qGOH",
        "outputId": "1992739e-23c2-48da-b3ce-39b515ad9794"
      },
      "source": [
        "data[data['genres'].astype(str).str.contains(\"Comedy\")]['release_year'].value_counts().plot()"
      ],
      "id": "4z8d5Dc1qGOH",
      "execution_count": 309,
      "outputs": [
        {
          "output_type": "execute_result",
          "data": {
            "text/plain": [
              "<matplotlib.axes._subplots.AxesSubplot at 0x7fcfc641b710>"
            ]
          },
          "metadata": {
            "tags": []
          },
          "execution_count": 309
        },
        {
          "output_type": "display_data",
          "data": {
            "image/png": "[encoded data removed]",
            "text/plain": [
              "<Figure size 432x288 with 1 Axes>"
            ]
          },
          "metadata": {
            "tags": [],
            "needs_background": "light"
          }
        }
      ]
    },
    {
      "cell_type": "code",
      "metadata": {
        "id": "funded-small"
      },
      "source": [
        "# 16. Топ-10 актеров, которые снялись в наибольшем количестве фильмов"
      ],
      "id": "funded-small",
      "execution_count": 310,
      "outputs": []
    },
    {
      "cell_type": "code",
      "metadata": {
        "colab": {
          "base_uri": "https://localhost:8080/"
        },
        "id": "Igmrr4w_sOxQ",
        "outputId": "3df27669-2ed0-48ab-fae1-f86c227240cd"
      },
      "source": [
        "cast = data['cast'].str.split('|', expand=True).dropna().to_numpy().ravel()\n",
        "pd.Series(cast).value_counts()"
      ],
      "id": "Igmrr4w_sOxQ",
      "execution_count": 311,
      "outputs": [
        {
          "output_type": "execute_result",
          "data": {
            "text/plain": [
              "Robert De Niro          70\n",
              "Samuel L. Jackson       67\n",
              "Nicolas Cage            61\n",
              "Bruce Willis            61\n",
              "Michael Caine           52\n",
              "                        ..\n",
              "Aileen Quinn             1\n",
              "Charlie Ray              1\n",
              "Marc Hosemann            1\n",
              "Sylvia Syms              1\n",
              "Patrick John Flueger     1\n",
              "Length: 18125, dtype: int64"
            ]
          },
          "metadata": {
            "tags": []
          },
          "execution_count": 311
        }
      ]
    },
    {
      "cell_type": "code",
      "metadata": {
        "id": "casual-scoop"
      },
      "source": [
        "# 17. Средний рейтинг фильмов по годам (постройте график)"
      ],
      "id": "casual-scoop",
      "execution_count": 312,
      "outputs": []
    },
    {
      "cell_type": "code",
      "metadata": {
        "colab": {
          "base_uri": "https://localhost:8080/",
          "height": 313
        },
        "id": "c6oH6YKJiNoP",
        "outputId": "afd973f5-2b48-4d13-829c-eefc7e0ca069"
      },
      "source": [
        "data.groupby('release_year')['vote_average'].mean().plot(title='average rating by year')"
      ],
      "id": "c6oH6YKJiNoP",
      "execution_count": 313,
      "outputs": [
        {
          "output_type": "execute_result",
          "data": {
            "text/plain": [
              "<matplotlib.axes._subplots.AxesSubplot at 0x7fcfc5c33250>"
            ]
          },
          "metadata": {
            "tags": []
          },
          "execution_count": 313
        },
        {
          "output_type": "display_data",
          "data": {
            "image/png": "[encoded data removed]",
            "text/plain": [
              "<Figure size 432x288 with 1 Axes>"
            ]
          },
          "metadata": {
            "tags": [],
            "needs_background": "light"
          }
        }
      ]
    },
    {
      "cell_type": "code",
      "metadata": {
        "id": "frozen-sister"
      },
      "source": [
        "# 18. Постройте график распределения жанров (столько-то процентов это боевики, столько-то комедии и т.п.)"
      ],
      "id": "frozen-sister",
      "execution_count": 314,
      "outputs": []
    },
    {
      "cell_type": "code",
      "metadata": {
        "colab": {
          "base_uri": "https://localhost:8080/",
          "height": 298
        },
        "id": "xBHyfODPsBZm",
        "outputId": "29076c84-b38a-4802-f857-37197a9a1ef7"
      },
      "source": [
        "genres = data['genres'].str.split(\"|\", expand=True).dropna().to_numpy().ravel()\n",
        "pd.Series(genres).value_counts().plot(title = 'genres')"
      ],
      "id": "xBHyfODPsBZm",
      "execution_count": 315,
      "outputs": [
        {
          "output_type": "execute_result",
          "data": {
            "text/plain": [
              "<matplotlib.axes._subplots.AxesSubplot at 0x7fcfc5ea1e50>"
            ]
          },
          "metadata": {
            "tags": []
          },
          "execution_count": 315
        },
        {
          "output_type": "display_data",
          "data": {
            "image/png": "[encoded data removed]",
            "text/plain": [
              "<Figure size 432x288 with 1 Axes>"
            ]
          },
          "metadata": {
            "tags": [],
            "needs_background": "light"
          }
        }
      ]
    },
    {
      "cell_type": "code",
      "metadata": {
        "id": "historic-defeat"
      },
      "source": [
        "# 19. Какой режиссер чаще всего снимал одного и того же актера?"
      ],
      "id": "historic-defeat",
      "execution_count": 316,
      "outputs": []
    },
    {
      "cell_type": "code",
      "metadata": {
        "id": "consecutive-selling"
      },
      "source": [
        "# 20. Какая пара жанров чаще всего встречается вместе?"
      ],
      "id": "consecutive-selling",
      "execution_count": 317,
      "outputs": []
    },
    {
      "cell_type": "code",
      "metadata": {
        "id": "occasional-hampshire"
      },
      "source": [
        "# 21. Топ-10 ключевых слов с самым высоким рейтингом/бюджетом/доходами фильмов (слово - срейдний рейтинг/бюджет/доходы)"
      ],
      "id": "occasional-hampshire",
      "execution_count": 318,
      "outputs": []
    },
    {
      "cell_type": "code",
      "metadata": {
        "id": "early-physiology"
      },
      "source": [
        "# 22. Постройте и визуализируйте граф связей между актерами (как это было в работе АПИ ВК)."
      ],
      "id": "early-physiology",
      "execution_count": 319,
      "outputs": []
    }
  ]
}